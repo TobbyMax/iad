{
 "cells": [
  {
   "cell_type": "markdown",
   "metadata": {
    "id": "xrvOD02o3HvH",
    "pycharm": {
     "name": "#%% md\n"
    }
   },
   "source": [
    "# Домашнее задание 6: классификация текстов"
   ]
  },
  {
   "cell_type": "markdown",
   "metadata": {
    "id": "sxwj_Iie3HvJ",
    "pycharm": {
     "name": "#%% md\n"
    }
   },
   "source": [
    "В этом домашнем задании вам предстоит построить классификатор текстов!\n",
    "\n",
    "Данные мы будем использовать из Kaggle соревнования: https://www.kaggle.com/competitions/nlp-getting-started/data \n",
    "\n",
    "\n",
    "Оттуда надо скачать файл train.csv. На обучающую и тестовую выборки его поделим кодом ниже, менять его не надо!"
   ]
  },
  {
   "cell_type": "markdown",
   "metadata": {
    "id": "qQVgqLg93HvJ",
    "pycharm": {
     "name": "#%% md\n"
    }
   },
   "source": [
    "Мы будем работать с датасетом постов из твиттера. Нам предстоит решать задачу бинарной классификации - определять содержатся ли в твитте информация о настоящей катастрофе/инциденте или нет."
   ]
  },
  {
   "cell_type": "code",
   "execution_count": 54,
   "metadata": {
    "id": "TcjEYh7R3HvK",
    "pycharm": {
     "name": "#%%\n"
    }
   },
   "outputs": [],
   "source": [
    "import nltk.corpus\n",
    "import numpy as np\n",
    "import pandas as pd\n",
    "from typing import  List\n",
    "import matplotlib.pyplot as plt\n",
    "import seaborn as sns\n",
    "from string import punctuation"
   ]
  },
  {
   "cell_type": "code",
   "execution_count": 55,
   "metadata": {
    "id": "mjwffGiB3HvK",
    "pycharm": {
     "name": "#%%\n"
    }
   },
   "outputs": [],
   "source": [
    "data = pd.read_csv('train.csv')"
   ]
  },
  {
   "cell_type": "code",
   "execution_count": 56,
   "metadata": {
    "colab": {
     "base_uri": "https://localhost:8080/",
     "height": 206
    },
    "id": "v0uUoFTN3HvK",
    "outputId": "0d37d677-a00d-449c-8f86-6f85dce2ef4a",
    "pycharm": {
     "name": "#%%\n"
    }
   },
   "outputs": [
    {
     "data": {
      "text/plain": "   id keyword location                                               text  \\\n0   1     NaN      NaN  Our Deeds are the Reason of this #earthquake M...   \n1   4     NaN      NaN             Forest fire near La Ronge Sask. Canada   \n2   5     NaN      NaN  All residents asked to 'shelter in place' are ...   \n3   6     NaN      NaN  13,000 people receive #wildfires evacuation or...   \n4   7     NaN      NaN  Just got sent this photo from Ruby #Alaska as ...   \n\n   target  \n0       1  \n1       1  \n2       1  \n3       1  \n4       1  ",
      "text/html": "<div>\n<style scoped>\n    .dataframe tbody tr th:only-of-type {\n        vertical-align: middle;\n    }\n\n    .dataframe tbody tr th {\n        vertical-align: top;\n    }\n\n    .dataframe thead th {\n        text-align: right;\n    }\n</style>\n<table border=\"1\" class=\"dataframe\">\n  <thead>\n    <tr style=\"text-align: right;\">\n      <th></th>\n      <th>id</th>\n      <th>keyword</th>\n      <th>location</th>\n      <th>text</th>\n      <th>target</th>\n    </tr>\n  </thead>\n  <tbody>\n    <tr>\n      <th>0</th>\n      <td>1</td>\n      <td>NaN</td>\n      <td>NaN</td>\n      <td>Our Deeds are the Reason of this #earthquake M...</td>\n      <td>1</td>\n    </tr>\n    <tr>\n      <th>1</th>\n      <td>4</td>\n      <td>NaN</td>\n      <td>NaN</td>\n      <td>Forest fire near La Ronge Sask. Canada</td>\n      <td>1</td>\n    </tr>\n    <tr>\n      <th>2</th>\n      <td>5</td>\n      <td>NaN</td>\n      <td>NaN</td>\n      <td>All residents asked to 'shelter in place' are ...</td>\n      <td>1</td>\n    </tr>\n    <tr>\n      <th>3</th>\n      <td>6</td>\n      <td>NaN</td>\n      <td>NaN</td>\n      <td>13,000 people receive #wildfires evacuation or...</td>\n      <td>1</td>\n    </tr>\n    <tr>\n      <th>4</th>\n      <td>7</td>\n      <td>NaN</td>\n      <td>NaN</td>\n      <td>Just got sent this photo from Ruby #Alaska as ...</td>\n      <td>1</td>\n    </tr>\n  </tbody>\n</table>\n</div>"
     },
     "execution_count": 56,
     "metadata": {},
     "output_type": "execute_result"
    }
   ],
   "source": [
    "data.head()"
   ]
  },
  {
   "cell_type": "code",
   "execution_count": 57,
   "metadata": {
    "id": "f49NdWY23HvL",
    "pycharm": {
     "name": "#%%\n"
    }
   },
   "outputs": [],
   "source": [
    "from sklearn.model_selection import train_test_split\n",
    "\n",
    "train, test = train_test_split(data, test_size=0.3, random_state=42)"
   ]
  },
  {
   "cell_type": "markdown",
   "metadata": {
    "id": "YlLemInT3HvL",
    "pycharm": {
     "name": "#%% md\n"
    }
   },
   "source": [
    "## Задание 1 (0.5 балла)\n",
    "\n",
    "Выведете на экран информацию о пропусках в данных. Если пропуски присутствуют заполните их пустой строкой."
   ]
  },
  {
   "cell_type": "code",
   "source": [
    "# -- YOUR CODE HERE --\n",
    "train.isna().sum()"
   ],
   "metadata": {
    "id": "96aJxmkV4105",
    "pycharm": {
     "name": "#%%\n"
    }
   },
   "execution_count": 58,
   "outputs": [
    {
     "data": {
      "text/plain": "id             0\nkeyword       44\nlocation    1760\ntext           0\ntarget         0\ndtype: int64"
     },
     "execution_count": 58,
     "metadata": {},
     "output_type": "execute_result"
    }
   ]
  },
  {
   "cell_type": "code",
   "execution_count": 59,
   "outputs": [
    {
     "data": {
      "text/plain": "id            0\nkeyword      17\nlocation    773\ntext          0\ntarget        0\ndtype: int64"
     },
     "execution_count": 59,
     "metadata": {},
     "output_type": "execute_result"
    }
   ],
   "source": [
    "test.isna().sum()"
   ],
   "metadata": {
    "collapsed": false,
    "pycharm": {
     "name": "#%%\n"
    }
   }
  },
  {
   "cell_type": "markdown",
   "source": [
    "В столбцах `keyword` и `location` выборки данных присутствуют пропуски. Заполняем их пустыми строками."
   ],
   "metadata": {
    "collapsed": false,
    "pycharm": {
     "name": "#%% md\n"
    }
   }
  },
  {
   "cell_type": "code",
   "execution_count": 60,
   "outputs": [],
   "source": [
    "train = train[train.columns].fillna(\"\")\n",
    "test = test[test.columns].fillna(\"\")"
   ],
   "metadata": {
    "collapsed": false,
    "pycharm": {
     "name": "#%%\n"
    }
   }
  },
  {
   "cell_type": "code",
   "execution_count": 61,
   "outputs": [
    {
     "data": {
      "text/plain": "id          0\nkeyword     0\nlocation    0\ntext        0\ntarget      0\ndtype: int64"
     },
     "execution_count": 61,
     "metadata": {},
     "output_type": "execute_result"
    }
   ],
   "source": [
    "train.isna().sum()"
   ],
   "metadata": {
    "collapsed": false,
    "pycharm": {
     "name": "#%%\n"
    }
   }
  },
  {
   "cell_type": "code",
   "execution_count": 62,
   "outputs": [
    {
     "data": {
      "text/plain": "id          0\nkeyword     0\nlocation    0\ntext        0\ntarget      0\ndtype: int64"
     },
     "execution_count": 62,
     "metadata": {},
     "output_type": "execute_result"
    }
   ],
   "source": [
    "test.isna().sum()"
   ],
   "metadata": {
    "collapsed": false,
    "pycharm": {
     "name": "#%%\n"
    }
   }
  },
  {
   "cell_type": "markdown",
   "source": [
    "Теперь пропусков нет!"
   ],
   "metadata": {
    "collapsed": false,
    "pycharm": {
     "name": "#%% md\n"
    }
   }
  },
  {
   "cell_type": "markdown",
   "metadata": {
    "id": "A8CPBUal3HvL",
    "pycharm": {
     "name": "#%% md\n"
    }
   },
   "source": [
    "## Задание 2 (1 балл)\n",
    "Давайте немного посмотрим на наши данные. Визуализируйте (где явно просят) или выведете информацию о следующем:\n",
    "\n",
    "1. Какое распределение классов в обучающей выборке?\n"
   ]
  },
  {
   "cell_type": "code",
   "source": [
    "# -- YOUR CODE HERE --\n",
    "train[\"target\"].value_counts()"
   ],
   "metadata": {
    "id": "WvJ_EU9o5BGm",
    "pycharm": {
     "name": "#%%\n"
    }
   },
   "execution_count": 63,
   "outputs": [
    {
     "data": {
      "text/plain": "0    3024\n1    2305\nName: target, dtype: int64"
     },
     "execution_count": 63,
     "metadata": {},
     "output_type": "execute_result"
    }
   ]
  },
  {
   "cell_type": "markdown",
   "source": [
    "Классы не сбалансированы. Число объектов отрицательного класса превосходит число объектов, принадлежащих положительному классу."
   ],
   "metadata": {
    "collapsed": false,
    "pycharm": {
     "name": "#%% md\n"
    }
   }
  },
  {
   "cell_type": "markdown",
   "source": [
    "2. Посмотрите на колонку \"keyword\" - возьмите 10 наиболее встречающихся значений, постройте ступенчатую диаграмму распределения классов в зависимости от значения keyword, сделайте выводы."
   ],
   "metadata": {
    "id": "f08KScbP5q2y",
    "pycharm": {
     "name": "#%% md\n"
    }
   }
  },
  {
   "cell_type": "code",
   "source": [
    "popular_keywords = list(train['keyword'].value_counts().drop('').sort_values(ascending=False)[:10].index)\n",
    "popular_keywords"
   ],
   "metadata": {
    "id": "WSCb0htu5w_Y",
    "pycharm": {
     "name": "#%%\n"
    }
   },
   "execution_count": 64,
   "outputs": [
    {
     "data": {
      "text/plain": "['damage',\n 'siren',\n 'wreckage',\n 'fatalities',\n 'deluge',\n 'fatality',\n 'harm',\n 'twister',\n 'nuclear%20reactor',\n 'emergency']"
     },
     "execution_count": 64,
     "metadata": {},
     "output_type": "execute_result"
    }
   ]
  },
  {
   "cell_type": "code",
   "execution_count": 65,
   "outputs": [
    {
     "data": {
      "text/plain": "<Figure size 1152x432 with 1 Axes>",
      "image/png": "[encoded data removed]"
     },
     "metadata": {},
     "output_type": "display_data"
    }
   ],
   "source": [
    "fig, ax = plt.subplots(figsize=(16, 6))\n",
    "plt.title('Histogram: Class by keyword', fontsize=16)\n",
    "sns.set_style(style=\"ticks\")\n",
    "# Строим график\n",
    "sns.histplot(train[train['keyword'].isin(popular_keywords)].sort_values(by=\"keyword\", key=lambda x: x.map(dict(zip(popular_keywords, list(range(10)))))), x='keyword', hue='target', multiple=\"layer\", ax=ax);"
   ],
   "metadata": {
    "collapsed": false,
    "pycharm": {
     "name": "#%%\n"
    }
   }
  },
  {
   "cell_type": "markdown",
   "source": [
    "#### Выводы:\n",
    "1. Число объектов положительного класса наибольшее среди объектов с ключевым словом `wreckage`;\n",
    "2.  Число объектов отрицательного класса наибольшее среди объектов с ключевым словом `siren` (на втором месте `twister`, затем `harm` и `deluge`);\n",
    "3. Все посты из твиттера, содержащие ключевое слово `wreckage`, относятся к положительному классу, то есть если твит содержит данное ключевое слово, то он однозначно содержит информацию о реальной катастрофе;\n",
    "4. Для остальных 9 ключевых слов, число объектов отрицательного класса превосходит число объектов положительного;\n",
    "5. Посты, содержащие ключевые слова `damage` и `fatalities` могут примерно с одинаковой вероятностью принадлежать как к положительному, так и к отрицательному классу, поэтому вне контекста они будут бесполезны для классификации;\n",
    "6. Для ключевых слов `nuclear%20reactor` и `emergency` соотношение отрицательного класса к положительному примерно 3 к 2, однако так как отношение классов во всей выборке также приблизительно 3/2, то возможно это соотношение связано с дисбалансом классов и, следовательно, не дает информации, полезной для классификации);\n",
    "7. Твиты с ключевыми словами `siren`, `twister`, `harm`, `deluge` и `fatality` с большой вероятностью относятся к отрицательному классу и могут играть важную роль в классификации."
   ],
   "metadata": {
    "id": "l4al3g9E-P09",
    "pycharm": {
     "name": "#%% md\n"
    }
   }
  },
  {
   "cell_type": "markdown",
   "metadata": {
    "id": "c006nNBP3HvM",
    "pycharm": {
     "name": "#%% md\n"
    }
   },
   "source": [
    "## Задание 3 (0.5 балла) \n",
    "\n",
    "В этом задании предлагается объединить все три текстовых столбца в один (просто сконкатенировать cтроки) и убрать столбец с индексом."
   ]
  },
  {
   "cell_type": "code",
   "source": [
    "train.loc[[6590, 7122, 2769]]"
   ],
   "metadata": {
    "colab": {
     "base_uri": "https://localhost:8080/",
     "height": 143
    },
    "id": "GdF9gFmL-c0r",
    "outputId": "ebe008b7-4d0e-4bc2-89f3-60a575c1b1fd",
    "pycharm": {
     "name": "#%%\n"
    }
   },
   "execution_count": 66,
   "outputs": [
    {
     "data": {
      "text/plain": "         id          keyword      location  \\\n6590   9436        survivors  Marietta, GA   \n7122  10203  violent%20storm                 \n2769   3980      devastation  Atlanta g.a.   \n\n                                                   text  target  \n6590  Stemming from my #Cubs talk- the team rosters ...       1  \n7122  If you were the NWS wth a rotating storm w/ a ...       1  \n2769  http://t.co/Gxgm1T3W0J From Devastation to Ela...       0  ",
      "text/html": "<div>\n<style scoped>\n    .dataframe tbody tr th:only-of-type {\n        vertical-align: middle;\n    }\n\n    .dataframe tbody tr th {\n        vertical-align: top;\n    }\n\n    .dataframe thead th {\n        text-align: right;\n    }\n</style>\n<table border=\"1\" class=\"dataframe\">\n  <thead>\n    <tr style=\"text-align: right;\">\n      <th></th>\n      <th>id</th>\n      <th>keyword</th>\n      <th>location</th>\n      <th>text</th>\n      <th>target</th>\n    </tr>\n  </thead>\n  <tbody>\n    <tr>\n      <th>6590</th>\n      <td>9436</td>\n      <td>survivors</td>\n      <td>Marietta, GA</td>\n      <td>Stemming from my #Cubs talk- the team rosters ...</td>\n      <td>1</td>\n    </tr>\n    <tr>\n      <th>7122</th>\n      <td>10203</td>\n      <td>violent%20storm</td>\n      <td></td>\n      <td>If you were the NWS wth a rotating storm w/ a ...</td>\n      <td>1</td>\n    </tr>\n    <tr>\n      <th>2769</th>\n      <td>3980</td>\n      <td>devastation</td>\n      <td>Atlanta g.a.</td>\n      <td>http://t.co/Gxgm1T3W0J From Devastation to Ela...</td>\n      <td>0</td>\n    </tr>\n  </tbody>\n</table>\n</div>"
     },
     "execution_count": 66,
     "metadata": {},
     "output_type": "execute_result"
    }
   ]
  },
  {
   "cell_type": "code",
   "execution_count": 67,
   "outputs": [],
   "source": [
    "def concatenate_columns(df: pd.DataFrame) -> pd.DataFrame:\n",
    "    df_new = df.assign(text = (df[\"keyword\"] + \" \" + df[\"location\"] + \" \" + df[\"text\"]))\n",
    "    df_new = df_new.drop(['keyword', 'location'], axis=1)\n",
    "    df_new = df_new.drop('id', axis=1)\n",
    "    return df_new"
   ],
   "metadata": {
    "collapsed": false,
    "pycharm": {
     "name": "#%%\n"
    }
   }
  },
  {
   "cell_type": "code",
   "execution_count": 68,
   "outputs": [],
   "source": [
    "train_new = concatenate_columns(train)"
   ],
   "metadata": {
    "collapsed": false,
    "pycharm": {
     "name": "#%%\n"
    }
   }
  },
  {
   "cell_type": "code",
   "execution_count": 69,
   "outputs": [],
   "source": [
    "test_new = concatenate_columns(test)"
   ],
   "metadata": {
    "collapsed": false,
    "pycharm": {
     "name": "#%%\n"
    }
   }
  },
  {
   "cell_type": "code",
   "source": [
    "train_new.loc[[6590, 7122, 2769]]"
   ],
   "metadata": {
    "colab": {
     "base_uri": "https://localhost:8080/",
     "height": 143
    },
    "id": "jk7P70XX_CpT",
    "outputId": "5cf01b29-8ada-46d7-f7ee-74e7aed37996",
    "pycharm": {
     "name": "#%%\n"
    }
   },
   "execution_count": 70,
   "outputs": [
    {
     "data": {
      "text/plain": "                                                   text  target\n6590  survivors Marietta, GA Stemming from my #Cubs ...       1\n7122  violent%20storm  If you were the NWS wth a rot...       1\n2769  devastation Atlanta g.a. http://t.co/Gxgm1T3W0...       0",
      "text/html": "<div>\n<style scoped>\n    .dataframe tbody tr th:only-of-type {\n        vertical-align: middle;\n    }\n\n    .dataframe tbody tr th {\n        vertical-align: top;\n    }\n\n    .dataframe thead th {\n        text-align: right;\n    }\n</style>\n<table border=\"1\" class=\"dataframe\">\n  <thead>\n    <tr style=\"text-align: right;\">\n      <th></th>\n      <th>text</th>\n      <th>target</th>\n    </tr>\n  </thead>\n  <tbody>\n    <tr>\n      <th>6590</th>\n      <td>survivors Marietta, GA Stemming from my #Cubs ...</td>\n      <td>1</td>\n    </tr>\n    <tr>\n      <th>7122</th>\n      <td>violent%20storm  If you were the NWS wth a rot...</td>\n      <td>1</td>\n    </tr>\n    <tr>\n      <th>2769</th>\n      <td>devastation Atlanta g.a. http://t.co/Gxgm1T3W0...</td>\n      <td>0</td>\n    </tr>\n  </tbody>\n</table>\n</div>"
     },
     "execution_count": 70,
     "metadata": {},
     "output_type": "execute_result"
    }
   ]
  },
  {
   "cell_type": "markdown",
   "metadata": {
    "id": "ViXdGTxP3HvM",
    "pycharm": {
     "name": "#%% md\n"
    }
   },
   "source": [
    "## Задание 4 (0.5 балла)\n",
    "\n",
    "Далее мы будем пока работать только с train частью.\n",
    "\n",
    "1. Предобработайте данные (train часть) с помощью CountVectorizer.\n",
    "2. Какого размера получилась матрица?\n"
   ]
  },
  {
   "cell_type": "code",
   "source": [
    "from sklearn.feature_extraction.text import CountVectorizer"
   ],
   "metadata": {
    "id": "oB1MTqUVAbPA",
    "pycharm": {
     "name": "#%%\n"
    }
   },
   "execution_count": 71,
   "outputs": []
  },
  {
   "cell_type": "code",
   "execution_count": 72,
   "outputs": [],
   "source": [
    "text_train = train_new[\"text\"]"
   ],
   "metadata": {
    "collapsed": false,
    "pycharm": {
     "name": "#%%\n"
    }
   }
  },
  {
   "cell_type": "code",
   "execution_count": 73,
   "outputs": [],
   "source": [
    "vectorizer = CountVectorizer()\n",
    "train_vec = vectorizer.fit_transform(text_train)"
   ],
   "metadata": {
    "collapsed": false,
    "pycharm": {
     "name": "#%%\n"
    }
   }
  },
  {
   "cell_type": "code",
   "execution_count": 74,
   "outputs": [
    {
     "data": {
      "text/plain": "array(['00', '000', '0000', ..., 'ûóher', 'ûókody', 'ûótech'],\n      dtype=object)"
     },
     "execution_count": 74,
     "metadata": {},
     "output_type": "execute_result"
    }
   ],
   "source": [
    "vectorizer.get_feature_names_out()"
   ],
   "metadata": {
    "collapsed": false,
    "pycharm": {
     "name": "#%%\n"
    }
   }
  },
  {
   "cell_type": "code",
   "execution_count": 75,
   "outputs": [
    {
     "name": "stdout",
     "output_type": "stream",
     "text": [
      "Matrix shape  (5329, 18455)\n"
     ]
    }
   ],
   "source": [
    "# Выведем размеры полученной матрицы\n",
    "print(\"Matrix shape \", train_vec.toarray().shape)"
   ],
   "metadata": {
    "collapsed": false,
    "pycharm": {
     "name": "#%%\n"
    }
   }
  },
  {
   "cell_type": "markdown",
   "source": [
    "Получилась матрица размерами (5329, 18455), где 5329 - число объектов тренировочной выборки, а 18455 - количество слов-признаков, найденных `CountVectorizer`."
   ],
   "metadata": {
    "collapsed": false,
    "pycharm": {
     "name": "#%% md\n"
    }
   }
  },
  {
   "cell_type": "markdown",
   "metadata": {
    "id": "A4waLlnC3HvM",
    "pycharm": {
     "name": "#%% md\n"
    }
   },
   "source": [
    "## Задание 5 (1 балл)\n",
    "\n",
    "В предыдущем пункте у вас должна была получиться достаточно большая матрица.\n",
    "Если вы взгляните на текст, то увидете, что там есть множество специальных символов, ссылок и прочего мусора.\n",
    "\n",
    "Давайте также посмотрим на словарь, который получился в результате построения CountVectorizer, его можно найти в поле vocabulary_ инстанса этого класса. Давайте напишем функцию, которая печает ответы на следующие вопросы:\n",
    "\n",
    "1. Найдите в этом словаре все слова, которые содержат цифры. Сколько таких слов нашлось?\n",
    "\n",
    "2. Найдите все слова, которые содержат символы пунктуации. Сколько таких слов нашлось? \n",
    "\n",
    "3. Сколько хэштегов (токен начинается на #) и упоминаний (токен начинается на @) осталось в словаре?"
   ]
  },
  {
   "cell_type": "code",
   "execution_count": 76,
   "outputs": [],
   "source": [
    "import re"
   ],
   "metadata": {
    "collapsed": false,
    "pycharm": {
     "name": "#%%\n"
    }
   }
  },
  {
   "cell_type": "code",
   "source": [
    "def contains_digit(s: str) -> bool:\n",
    "    # Проверка, содержит ли слово цифры\n",
    "    # -- YOUR CODE HERE --\n",
    "    return any(c.isdigit() for c in s)\n",
    "\n",
    "def contains_punctuation(s: str) -> bool:\n",
    "    # Проверка, содержит ли слово пунктуацию\n",
    "    # -- YOUR CODE HERE --\n",
    "    return any(c in list(punctuation) for c in s)\n",
    "\n",
    "def is_hashtag(s: str) -> bool:\n",
    "    # Проверка, является ли слово хэштегом\n",
    "    # -- YOUR CODE HERE --\n",
    "    return s.startswith('#')\n",
    "\n",
    "def is_mention(s: str) -> bool:\n",
    "    # Проверка, является ли слово упоминанием\n",
    "    # -- YOUR CODE HERE --\n",
    "    return s.startswith('@')\n",
    "\n",
    "def investigate_vocabulary(vocabulary):\n",
    "    # -- YOUR CODE HERE --\n",
    "    print('With digit:      ', # -- YOUR CODE HERE --\n",
    "          sum(map(lambda x : contains_digit(x), vocabulary)))\n",
    "    print('With punctuation:', # -- YOUR CODE HERE --\n",
    "          sum(map(lambda x : contains_punctuation(x), vocabulary)))\n",
    "    print('Hashtags:        ', # -- YOUR CODE HERE --\n",
    "          sum(map(lambda x : is_hashtag(x), vocabulary)))\n",
    "    print('Mentions:        ', # -- YOUR CODE HERE --\n",
    "          sum(map(lambda x : is_mention(x), vocabulary)))\n",
    "\n",
    "\n"
   ],
   "metadata": {
    "id": "7PhQSWqcHhU8",
    "pycharm": {
     "name": "#%%\n"
    }
   },
   "execution_count": 77,
   "outputs": []
  },
  {
   "cell_type": "code",
   "source": [
    "dummy_vocab = {'th1nk' : 0,\n",
    "               'think333' : 1,\n",
    "               'think.' : 2,\n",
    "               'th!nk' : 3,\n",
    "               'th...nk' : 4,\n",
    "               '#think' : 5,\n",
    "               '@think' : 6,\n",
    "               '@thinking':7,\n",
    "               '@nothink' : 8,\n",
    "               'think' : 9}\n",
    "investigate_vocabulary(dummy_vocab)"
   ],
   "metadata": {
    "colab": {
     "base_uri": "https://localhost:8080/"
    },
    "id": "s8hL5ZcQIdp6",
    "outputId": "c8b50455-38f2-455d-c9f6-96b03a7e09ce",
    "pycharm": {
     "name": "#%%\n"
    }
   },
   "execution_count": 78,
   "outputs": [
    {
     "name": "stdout",
     "output_type": "stream",
     "text": [
      "With digit:       2\n",
      "With punctuation: 7\n",
      "Hashtags:         1\n",
      "Mentions:         3\n"
     ]
    }
   ]
  },
  {
   "cell_type": "code",
   "source": [
    "investigate_vocabulary(vectorizer.vocabulary_)"
   ],
   "metadata": {
    "id": "VpW8R_SuKR_l",
    "pycharm": {
     "name": "#%%\n"
    }
   },
   "execution_count": 79,
   "outputs": [
    {
     "name": "stdout",
     "output_type": "stream",
     "text": [
      "With digit:       3812\n",
      "With punctuation: 315\n",
      "Hashtags:         0\n",
      "Mentions:         0\n"
     ]
    }
   ]
  },
  {
   "cell_type": "markdown",
   "source": [
    "В словаре нашлось:\n",
    "* 3812 слов, содержащих цифры;\n",
    "* 315 слов, которые содержат символы пунктуации;\n",
    "* 0 хэштегов и 0 упоминаний, так как регулярное выражение-токенайзер по умолчанию в CountVectorizer удаляет такие специальные символы, как '@' и '#'."
   ],
   "metadata": {
    "collapsed": false,
    "pycharm": {
     "name": "#%% md\n"
    }
   }
  },
  {
   "cell_type": "markdown",
   "metadata": {
    "id": "bfNLaxX93HvM",
    "pycharm": {
     "name": "#%% md\n"
    }
   },
   "source": [
    "## Задание 6 (0.5 балла)\n",
    "\n",
    "Вспомним, что на семинаре по текстам мы узнали, что в nltk есть специальный токенизатор для текстов - TweetTokenizer. Попробуем применить CountVectorizer с этим токенизатором. Ответьте на все вопросы из предыдущего пункта для TweetTokenizer и сравните результаты."
   ]
  },
  {
   "cell_type": "code",
   "execution_count": 80,
   "metadata": {
    "id": "xnlRoXUS3HvM",
    "pycharm": {
     "name": "#%%\n"
    }
   },
   "outputs": [],
   "source": [
    "from nltk.tokenize import TweetTokenizer\n",
    "# Чтобы узнать, какие параметры есть у этого токенайзера - используйте help(TweetTokenizer)\n",
    "# Для того, чтобы передать токенайзер в CountVectorizer используйте параметр tokenizer"
   ]
  },
  {
   "cell_type": "markdown",
   "source": [
    "Используем TweetTokenizer по умолчанию."
   ],
   "metadata": {
    "collapsed": false,
    "pycharm": {
     "name": "#%% md\n"
    }
   }
  },
  {
   "cell_type": "code",
   "execution_count": 81,
   "outputs": [],
   "source": [
    "tweet_tokenizer = TweetTokenizer()\n",
    "tweet_vectorizer = CountVectorizer(tokenizer=tweet_tokenizer.tokenize)\n",
    "train_tweet_vec = tweet_vectorizer.fit_transform(text_train)"
   ],
   "metadata": {
    "collapsed": false,
    "pycharm": {
     "name": "#%%\n"
    }
   }
  },
  {
   "cell_type": "code",
   "execution_count": 82,
   "outputs": [
    {
     "name": "stdout",
     "output_type": "stream",
     "text": [
      "Matrix shape  (5329, 19670)\n"
     ]
    }
   ],
   "source": [
    "print(\"Matrix shape \", train_tweet_vec.shape)"
   ],
   "metadata": {
    "collapsed": false,
    "pycharm": {
     "name": "#%%\n"
    }
   }
  },
  {
   "cell_type": "code",
   "execution_count": 83,
   "outputs": [
    {
     "name": "stdout",
     "output_type": "stream",
     "text": [
      "With digit:       3939\n",
      "With punctuation: 7338\n",
      "Hashtags:         1470\n",
      "Mentions:         1679\n"
     ]
    }
   ],
   "source": [
    "investigate_vocabulary(tweet_vectorizer.vocabulary_)"
   ],
   "metadata": {
    "collapsed": false,
    "pycharm": {
     "name": "#%%\n"
    }
   }
  },
  {
   "cell_type": "markdown",
   "source": [
    "В нашем словаре стало:\n",
    "* 3939 слов, содержащих цифры;\n",
    "* 7338 слов, которые содержат символы пунктуации;\n",
    "* 1470 хэштегов;\n",
    "* 1679 упоминаний.\n",
    "\n",
    "При этом размеры матрицы (количество слов в словаре) увеличились за счет слов со специальными символами.\n"
   ],
   "metadata": {
    "collapsed": false,
    "pycharm": {
     "name": "#%% md\n"
    }
   }
  },
  {
   "cell_type": "markdown",
   "source": [
    "Теперь попробуем использовать TweetTokenizer c надстройками:\n",
    "* strip_handles - удаляет упоминания имен пользователей, написавших пост;\n",
    "* reduce_len - заменяет повторяющиеся последовательности символов длины больше трех, на последовательности в 3 символа;\n",
    "* preserve_case - установленный на False не сохраняет регистр букв при токенизации."
   ],
   "metadata": {
    "collapsed": false,
    "pycharm": {
     "name": "#%% md\n"
    }
   }
  },
  {
   "cell_type": "code",
   "execution_count": 84,
   "outputs": [],
   "source": [
    "tokenizer_modified = TweetTokenizer(strip_handles=True, reduce_len=True, preserve_case=False)\n",
    "tweet_vectorizer = CountVectorizer(tokenizer=tokenizer_modified.tokenize)\n",
    "train_tweet_vec_mod = tweet_vectorizer.fit_transform(text_train)"
   ],
   "metadata": {
    "collapsed": false,
    "pycharm": {
     "name": "#%%\n"
    }
   }
  },
  {
   "cell_type": "code",
   "execution_count": 85,
   "outputs": [
    {
     "name": "stdout",
     "output_type": "stream",
     "text": [
      "Matrix shape  (5329, 17989)\n"
     ]
    }
   ],
   "source": [
    "print(\"Matrix shape \", train_tweet_vec_mod.shape)"
   ],
   "metadata": {
    "collapsed": false,
    "pycharm": {
     "name": "#%%\n"
    }
   }
  },
  {
   "cell_type": "code",
   "execution_count": 86,
   "outputs": [
    {
     "name": "stdout",
     "output_type": "stream",
     "text": [
      "With digit:       3645\n",
      "With punctuation: 5669\n",
      "Hashtags:         1470\n",
      "Mentions:         10\n"
     ]
    }
   ],
   "source": [
    "investigate_vocabulary(tweet_vectorizer.vocabulary_)"
   ],
   "metadata": {
    "collapsed": false,
    "pycharm": {
     "name": "#%%\n"
    }
   }
  },
  {
   "cell_type": "markdown",
   "source": [
    "В нашем словаре стало:\n",
    "* 3645 слов, содержащих цифры;\n",
    "* 5669 слов, которые содержат символы пунктуации;\n",
    "* 1470 хэштегов;\n",
    "* 10 упоминаний."
   ],
   "metadata": {
    "collapsed": false,
    "pycharm": {
     "name": "#%% md\n"
    }
   }
  },
  {
   "cell_type": "markdown",
   "source": [
    "TweetTokenizer с надстройками, удаляющими имена пользователей, меняющими регистр и сокращающими длинные последовательности позволил уменьшить размеры матрицы (в основном за счет удаления упоминаний из словаря)."
   ],
   "metadata": {
    "collapsed": false,
    "pycharm": {
     "name": "#%% md\n"
    }
   }
  },
  {
   "cell_type": "markdown",
   "source": [
    "#### Сравнение:\n",
    "* По сравнению с токенайзером по умолчанию из СoutVectorizer, при применении TweetTokenizer количество слов, содержащих цифры увеличилось незначительно, количество слов со знаками пунктуации увеличилось в 23 раза, а количество хэштегов и упоминаний увеличилось от нуля до полутора тысяч. При этом словарь увеличился примерно на 1000 слов. Это связано с тем, что регулярное выражение-токенайзер по умолчанию в CountVectorizer удаляет специальные символы, включая ‘@’ и ‘#’, тогда как TweetTokenizer включает слова в словарь вместе с ними.\n",
    "* TweetTokenizer, не включающий в словарь упоминания авторов, позволил уменьшить размеры словаря на 1500 слов по сравнению с обычным TweetTokenizer, при этом сохранив хэштеги.\n",
    "\n",
    "##### Вывод:\n",
    "В отличие от токенизатора по умолчанию из CountVectorizer, TweetTokenizer сохраняет и позволяет отдельно обрабатывать слова с такими специальными символами, как ‘@’ и ‘#’, что, однако, увеличивает размеры словаря. Такой подход позволяет обращать внимание на хэштеги, которые могут нести ключевую информацию. При этом TweetTokenizer предоставляет возможность удалять из словаря лишние упоминания, которые, как правило, не несут важной информации."
   ],
   "metadata": {
    "id": "Wetr80-ILULV",
    "pycharm": {
     "name": "#%% md\n"
    }
   }
  },
  {
   "cell_type": "markdown",
   "metadata": {
    "id": "6_k_-i1x3HvM",
    "pycharm": {
     "name": "#%% md\n"
    }
   },
   "source": [
    "## Задание 7 (2 балла)\n",
    "\n",
    "В scikit-learn мы можем оценивать процесс подсчета матрицы через CountVectorizer. У CountVectorizer, как и у других наследников \\_VectorizerMixin, есть аргумент tokenizer и preprocessor. preprocessor применится в самом начале к каждой строке вашего датасета, tokenizer же должен принять строку и вернуть токены.\n",
    "Давайте напишем кастомный токенайзер, которые сделает все, что нам нужно: \n",
    "\n",
    "0. Приведет все буквы к нижнему регистру\n",
    "1. Разобьет текст на токены с помощью TweetTokenizer из пакета nltk\n",
    "2. Удалит все токены содержащие не латинские буквы, кроме смайликов (будем считать ими токены содержащие только пунктуацию и, как минимум, одну скобочку) и хэштегов, которые после начальной # содержат только латинские буквы.\n",
    "3. Удалит все токены, которые перечислены в nltk.corpus.stopwords.words('english')\n",
    "4. Проведет стемминг с помощью SnowballStemmer\n",
    "\n"
   ]
  },
  {
   "cell_type": "code",
   "execution_count": 87,
   "outputs": [],
   "source": [
    "import nltk"
   ],
   "metadata": {
    "collapsed": false,
    "pycharm": {
     "name": "#%%\n"
    }
   }
  },
  {
   "cell_type": "code",
   "execution_count": 88,
   "outputs": [
    {
     "data": {
      "text/plain": "True"
     },
     "execution_count": 88,
     "metadata": {},
     "output_type": "execute_result"
    }
   ],
   "source": [
    "nltk.download(\"stopwords\", quiet=True)"
   ],
   "metadata": {
    "collapsed": false,
    "pycharm": {
     "name": "#%%\n"
    }
   }
  },
  {
   "cell_type": "code",
   "execution_count": 89,
   "outputs": [],
   "source": [
    "from nltk.corpus import stopwords\n",
    "from nltk.stem.snowball import SnowballStemmer"
   ],
   "metadata": {
    "collapsed": false,
    "pycharm": {
     "name": "#%%\n"
    }
   }
  },
  {
   "cell_type": "code",
   "source": [
    "def contains_only_latin_letters(s: str) -> bool:\n",
    "    # Проверка, содержит ли слово только латинские буквы\n",
    "    # -- YOUR CODE HERE --\n",
    "    return not bool(re.search(r\"[^a-zA-Z]\", s))\n",
    "\n",
    "def is_emoji(s: str) -> bool:\n",
    "    # Проверка, является ли слово смайликом\n",
    "    # -- YOUR CODE HERE --\n",
    "    punctuation_symbols = list(punctuation)\n",
    "    return bool(re.search(r\"[()]\", s)) and all(c in punctuation_symbols for c in s)\n",
    "\n",
    "def is_hashtag(s: str) -> bool:\n",
    "    # Проверка, является ли слово хэштегом\n",
    "    # -- YOUR CODE HERE --\n",
    "    return s.startswith('#') and contains_only_latin_letters(s[1:])\n",
    "\n",
    "def is_suitable(s: str) -> bool:\n",
    "    # Проверка, что слово подходит под требования\n",
    "    stop_list = set(stopwords.words(\"english\"))\n",
    "    if s in stop_list:\n",
    "        return False\n",
    "    if is_emoji(s):\n",
    "        return True\n",
    "    if is_hashtag(s):\n",
    "        return True\n",
    "    return contains_only_latin_letters(s)\n",
    "\n",
    "\n",
    "def custom_tokenizer(s: str) -> List[str]:    \n",
    "    # Кастомный токенайзер\n",
    "    # -- YOUR CODE HERE --\n",
    "    lowered = s.lower()\n",
    "    tokenizer = TweetTokenizer()\n",
    "    stemmer = SnowballStemmer(\"english\")\n",
    "    return [stemmer.stem(w) for w in tokenizer.tokenize(lowered) if is_suitable(w)]\n"
   ],
   "metadata": {
    "id": "qhwmi7DEMD25",
    "pycharm": {
     "name": "#%%\n"
    }
   },
   "execution_count": 90,
   "outputs": []
  },
  {
   "cell_type": "code",
   "source": [
    "custom_tokenizer('She LOVES painting :-) #art')"
   ],
   "metadata": {
    "colab": {
     "base_uri": "https://localhost:8080/"
    },
    "id": "vYzPZzf8O6vj",
    "outputId": "b1107f8a-eef7-49f7-8ed3-910be791d645",
    "pycharm": {
     "name": "#%%\n"
    }
   },
   "execution_count": 91,
   "outputs": [
    {
     "data": {
      "text/plain": "['love', 'paint', ':-)', '#art']"
     },
     "execution_count": 91,
     "metadata": {},
     "output_type": "execute_result"
    }
   ]
  },
  {
   "cell_type": "markdown",
   "source": [
    "Продемонстрируйте работу вашей функции на первых десяти текстах в обучающей выборке."
   ],
   "metadata": {
    "id": "2S_-ThAf5It4",
    "pycharm": {
     "name": "#%% md\n"
    }
   }
  },
  {
   "cell_type": "code",
   "source": [
    "# -- YOUR CODE HERE --\n",
    "for i, text in enumerate(text_train.head(10)):\n",
    "    print(f\"---------------------Text #{i}---------------------\")\n",
    "    print(text)\n",
    "    print(\"---------------------Result---------------------\")\n",
    "    print(custom_tokenizer(text))\n",
    "    print()"
   ],
   "metadata": {
    "id": "A1fh3_itPz7D",
    "pycharm": {
     "name": "#%%\n"
    }
   },
   "execution_count": 92,
   "outputs": [
    {
     "name": "stdout",
     "output_type": "stream",
     "text": [
      "---------------------Text #0---------------------\n",
      "bridge%20collapse  Ashes 2015: AustraliaÛªs collapse at Trent Bridge among worst in history: England bundled out Australia for 60 ... http://t.co/t5TrhjUAU0\n",
      "---------------------Result---------------------\n",
      "['bridg', 'ash', 'australia', 'collaps', 'trent', 'bridg', 'among', 'worst', 'histori', 'england', 'bundl', 'australia']\n",
      "\n",
      "---------------------Text #1---------------------\n",
      "hail Carol Stream, Illinois GREAT MICHIGAN TECHNIQUE CAMP\n",
      "B1G THANKS TO @bmurph1019 \n",
      "@hail_Youtsey . @termn8r13 \n",
      "#GoBlue #WrestleOn http://t.co/OasKgki6Qj\n",
      "---------------------Result---------------------\n",
      "['hail', 'carol', 'stream', 'illinoi', 'great', 'michigan', 'techniqu', 'camp', 'thank', '#goblu', '#wrestleon']\n",
      "\n",
      "---------------------Text #2---------------------\n",
      "police Houston  CNN: Tennessee movie theater shooting suspect killed by police http://t.co/dI8ElZsWNR\n",
      "---------------------Result---------------------\n",
      "['polic', 'houston', 'cnn', 'tennesse', 'movi', 'theater', 'shoot', 'suspect', 'kill', 'polic']\n",
      "\n",
      "---------------------Text #3---------------------\n",
      "rioting  Still rioting in a couple of hours left until I have to be up for class.\n",
      "---------------------Result---------------------\n",
      "['riot', 'still', 'riot', 'coupl', 'hour', 'left', 'class']\n",
      "\n",
      "---------------------Text #4---------------------\n",
      "wounds Lake Highlands Crack in the path where I wiped out this morning during beach run. Surface wounds on left elbow and right knee. http://t.co/yaqRSximph\n",
      "---------------------Result---------------------\n",
      "['wound', 'lake', 'highland', 'crack', 'path', 'wipe', 'morn', 'beach', 'run', 'surfac', 'wound', 'left', 'elbow', 'right', 'knee']\n",
      "\n",
      "---------------------Text #5---------------------\n",
      "airplane%20accident Somewhere Out There Experts in France begin examining airplane debris found on Reunion Island: French air accident experts on... http://t.co/TagZbcXFj0 #MLB\n",
      "---------------------Result---------------------\n",
      "['airplan', 'somewher', 'expert', 'franc', 'begin', 'examin', 'airplan', 'debri', 'found', 'reunion', 'island', 'french', 'air', 'accid', 'expert', '#mlb']\n",
      "\n",
      "---------------------Text #6---------------------\n",
      "bloody Isolated City In World Perth 'I came to kill Indians...for FUN': Video of smirking and remorseless Pakistani killer shows him boasting. http://t.co/FPjLwOXKlg\n",
      "---------------------Result---------------------\n",
      "['bloodi', 'isol', 'citi', 'world', 'perth', 'came', 'kill', 'indian', 'fun', 'video', 'smirk', 'remorseless', 'pakistani', 'killer', 'show', 'boast']\n",
      "\n",
      "---------------------Text #7---------------------\n",
      "burning  @JohnsonTionne except idk them?? it's really burning ??????\n",
      "---------------------Result---------------------\n",
      "['burn', 'except', 'idk', 'realli', 'burn']\n",
      "\n",
      "---------------------Text #8---------------------\n",
      "destroy he/him or she/her (ask) destroy the house\n",
      "---------------------Result---------------------\n",
      "['destroy', '(', 'ask', ')', 'destroy', 'hous']\n",
      "\n",
      "---------------------Text #9---------------------\n",
      "wounded Maracay y Nirgua, Venezuela Police Officer Wounded Suspect Dead After Exchanging Shots http://t.co/XxFk4KHbIw\n",
      "---------------------Result---------------------\n",
      "['wound', 'maracay', 'nirgua', 'venezuela', 'polic', 'offic', 'wound', 'suspect', 'dead', 'exchang', 'shot']\n",
      "\n"
     ]
    }
   ]
  },
  {
   "cell_type": "markdown",
   "metadata": {
    "id": "a5lNZ4tb3HvN",
    "pycharm": {
     "name": "#%% md\n"
    }
   },
   "source": [
    "## Задание 8 (1 балл)\n",
    "\n",
    "1. Примените CountVectorizer с реализованным выше токенизатором к обучающим и тестовым выборкам.\n"
   ]
  },
  {
   "cell_type": "code",
   "execution_count": 93,
   "outputs": [],
   "source": [
    "vectorizer = CountVectorizer(tokenizer=custom_tokenizer)"
   ],
   "metadata": {
    "collapsed": false,
    "pycharm": {
     "name": "#%%\n"
    }
   }
  },
  {
   "cell_type": "code",
   "execution_count": 94,
   "outputs": [],
   "source": [
    "text_test = test_new[\"text\"]"
   ],
   "metadata": {
    "collapsed": false,
    "pycharm": {
     "name": "#%%\n"
    }
   }
  },
  {
   "cell_type": "code",
   "execution_count": 95,
   "outputs": [],
   "source": [
    "bow_train = vectorizer.fit_transform(text_train)"
   ],
   "metadata": {
    "collapsed": false,
    "pycharm": {
     "name": "#%%\n"
    }
   }
  },
  {
   "cell_type": "code",
   "execution_count": 96,
   "outputs": [],
   "source": [
    "bow_test = vectorizer.transform(text_test)"
   ],
   "metadata": {
    "collapsed": false,
    "pycharm": {
     "name": "#%%\n"
    }
   }
  },
  {
   "cell_type": "code",
   "execution_count": 97,
   "outputs": [
    {
     "name": "stdout",
     "output_type": "stream",
     "text": [
      "Matrix shape:  (5329, 10482)\n"
     ]
    }
   ],
   "source": [
    "print(\"Matrix shape: \", bow_train.shape)"
   ],
   "metadata": {
    "collapsed": false,
    "pycharm": {
     "name": "#%%\n"
    }
   }
  },
  {
   "cell_type": "markdown",
   "source": [
    "В результате обработки текстов кастомным токенайзером количество слов в словаре уменьшилось более чем в 1.5 раза."
   ],
   "metadata": {
    "collapsed": false,
    "pycharm": {
     "name": "#%% md\n"
    }
   }
  },
  {
   "cell_type": "markdown",
   "source": [
    "2. Обучите LogisticRegression на полученных признаках.\n"
   ],
   "metadata": {
    "id": "YcetwuEi5ds9",
    "pycharm": {
     "name": "#%% md\n"
    }
   }
  },
  {
   "cell_type": "code",
   "source": [
    "from sklearn.linear_model import LogisticRegression\n",
    "# -- YOUR CODE HERE --\n",
    "from sklearn.preprocessing import MaxAbsScaler\n",
    "from sklearn.metrics import classification_report"
   ],
   "metadata": {
    "id": "BVj03QV2QbWl",
    "pycharm": {
     "name": "#%%\n"
    }
   },
   "execution_count": 98,
   "outputs": []
  },
  {
   "cell_type": "code",
   "execution_count": 99,
   "outputs": [],
   "source": [
    "y_train = train_new[\"target\"]\n",
    "y_test = test_new[\"target\"]"
   ],
   "metadata": {
    "collapsed": false,
    "pycharm": {
     "name": "#%%\n"
    }
   }
  },
  {
   "cell_type": "code",
   "execution_count": 100,
   "outputs": [],
   "source": [
    "scaler = MaxAbsScaler()\n",
    "bow_train = scaler.fit_transform(bow_train)\n",
    "bow_test = scaler.transform(bow_test)"
   ],
   "metadata": {
    "collapsed": false,
    "pycharm": {
     "name": "#%%\n"
    }
   }
  },
  {
   "cell_type": "code",
   "execution_count": 101,
   "outputs": [],
   "source": [
    "clf = LogisticRegression(max_iter=300, random_state=42)\n",
    "clf.fit(bow_train, y_train)\n",
    "pred_bow = clf.predict(bow_test)"
   ],
   "metadata": {
    "collapsed": false,
    "pycharm": {
     "name": "#%%\n"
    }
   }
  },
  {
   "cell_type": "code",
   "execution_count": 102,
   "outputs": [
    {
     "name": "stdout",
     "output_type": "stream",
     "text": [
      "              precision    recall  f1-score   support\n",
      "\n",
      "           0       0.80      0.87      0.83      1318\n",
      "           1       0.80      0.69      0.74       966\n",
      "\n",
      "    accuracy                           0.80      2284\n",
      "   macro avg       0.80      0.78      0.79      2284\n",
      "weighted avg       0.80      0.80      0.80      2284\n",
      "\n"
     ]
    }
   ],
   "source": [
    "print(classification_report(y_test, pred_bow))"
   ],
   "metadata": {
    "collapsed": false,
    "pycharm": {
     "name": "#%%\n"
    }
   }
  },
  {
   "cell_type": "markdown",
   "source": [
    "3. Посчитайте метрику f1-score на тестовых данных."
   ],
   "metadata": {
    "id": "6Ch6uz2P5e-T",
    "pycharm": {
     "name": "#%% md\n"
    }
   }
  },
  {
   "cell_type": "code",
   "source": [
    "from sklearn.metrics import f1_score\n",
    "# -- YOUR CODE HERE --\n",
    "print(f\"F1 score: {f1_score(y_test, pred_bow):.3f}\")"
   ],
   "metadata": {
    "colab": {
     "base_uri": "https://localhost:8080/"
    },
    "id": "osyC0pdT3cSD",
    "outputId": "cd957d5f-5118-4b7f-d7ba-01bb5a524086",
    "pycharm": {
     "name": "#%%\n"
    }
   },
   "execution_count": 103,
   "outputs": [
    {
     "name": "stdout",
     "output_type": "stream",
     "text": [
      "F1 score: 0.744\n"
     ]
    }
   ]
  },
  {
   "cell_type": "markdown",
   "metadata": {
    "id": "aFIEYOMZ3HvN",
    "pycharm": {
     "name": "#%% md\n"
    }
   },
   "source": [
    "## Задание 9 (1 балл)\n",
    "\n",
    "1. Повторите 8 задание, но с tf-idf векторизатором. Как изменилось качество?\n"
   ]
  },
  {
   "cell_type": "code",
   "source": [
    "from sklearn.feature_extraction.text import TfidfVectorizer\n",
    "\n",
    "# 1"
   ],
   "metadata": {
    "colab": {
     "base_uri": "https://localhost:8080/"
    },
    "id": "cDqs61hl3ve3",
    "outputId": "fdd72125-dfde-4183-d614-3b0bc9002ada",
    "pycharm": {
     "name": "#%%\n"
    }
   },
   "execution_count": 104,
   "outputs": []
  },
  {
   "cell_type": "code",
   "execution_count": 105,
   "outputs": [],
   "source": [
    "vec = TfidfVectorizer(tokenizer=custom_tokenizer)\n",
    "vec_train = vec.fit_transform(text_train)\n",
    "vec_test = vec.transform(text_test)"
   ],
   "metadata": {
    "collapsed": false,
    "pycharm": {
     "name": "#%%\n"
    }
   }
  },
  {
   "cell_type": "code",
   "execution_count": 106,
   "outputs": [],
   "source": [
    "scaler = MaxAbsScaler()\n",
    "vec_train = scaler.fit_transform(vec_train)\n",
    "vec_test = scaler.transform(vec_test)"
   ],
   "metadata": {
    "collapsed": false,
    "pycharm": {
     "name": "#%%\n"
    }
   }
  },
  {
   "cell_type": "code",
   "execution_count": 107,
   "outputs": [],
   "source": [
    "clf = LogisticRegression(max_iter=300, random_state=42)\n",
    "clf.fit(vec_train, y_train)\n",
    "pred_tfidf = clf.predict(vec_test)"
   ],
   "metadata": {
    "collapsed": false,
    "pycharm": {
     "name": "#%%\n"
    }
   }
  },
  {
   "cell_type": "code",
   "execution_count": 108,
   "outputs": [
    {
     "name": "stdout",
     "output_type": "stream",
     "text": [
      "              precision    recall  f1-score   support\n",
      "\n",
      "           0       0.80      0.86      0.83      1318\n",
      "           1       0.79      0.71      0.75       966\n",
      "\n",
      "    accuracy                           0.80      2284\n",
      "   macro avg       0.79      0.78      0.79      2284\n",
      "weighted avg       0.79      0.80      0.79      2284\n",
      "\n"
     ]
    }
   ],
   "source": [
    "print(classification_report(y_test, pred_tfidf))"
   ],
   "metadata": {
    "collapsed": false,
    "pycharm": {
     "name": "#%%\n"
    }
   }
  },
  {
   "cell_type": "code",
   "execution_count": 109,
   "outputs": [
    {
     "name": "stdout",
     "output_type": "stream",
     "text": [
      "Matrix shape:  (5329, 10482)\n"
     ]
    }
   ],
   "source": [
    "print(\"Matrix shape: \", vec_train.shape)"
   ],
   "metadata": {
    "collapsed": false,
    "pycharm": {
     "name": "#%%\n"
    }
   }
  },
  {
   "cell_type": "code",
   "execution_count": 110,
   "outputs": [
    {
     "name": "stdout",
     "output_type": "stream",
     "text": [
      "F1 score: 0.746\n"
     ]
    }
   ],
   "source": [
    "print(f\"F1 score: {f1_score(y_test, pred_tfidf):.3f}\")"
   ],
   "metadata": {
    "collapsed": false,
    "pycharm": {
     "name": "#%%\n"
    }
   }
  },
  {
   "cell_type": "markdown",
   "source": [
    "1. **Ответ:**\n",
    "    Судя по увеличению F1-score на 0.002, качество модели немного увеличилось."
   ],
   "metadata": {
    "id": "SXaNclTZSFjO",
    "pycharm": {
     "name": "#%% md\n"
    }
   }
  },
  {
   "cell_type": "markdown",
   "source": [
    "2. Мы можем еще сильнее уменьшить размер нашей матрицы, если отбросим значения df близкие к единице. Скорее всего такие слова не несут много информации о категории, так как встречаются достаточно часто. Ограничьте максимальный df в параметрах TfIdfVectorizer, поставьте верхнюю границу равную 0.9. Как изменился размер матрицы, как изменилось качество?\n"
   ],
   "metadata": {
    "id": "CPtk0lCA5POY",
    "pycharm": {
     "name": "#%% md\n"
    }
   }
  },
  {
   "cell_type": "code",
   "source": [
    "# 2\n",
    "# -- YOUR CODE HERE --"
   ],
   "metadata": {
    "colab": {
     "base_uri": "https://localhost:8080/"
    },
    "id": "EU-MRXyRSHLm",
    "outputId": "6b5353a8-5f3b-4220-fcd4-64eecfe20054",
    "pycharm": {
     "name": "#%%\n"
    }
   },
   "execution_count": 111,
   "outputs": []
  },
  {
   "cell_type": "code",
   "execution_count": 112,
   "outputs": [],
   "source": [
    "vec = TfidfVectorizer(tokenizer=custom_tokenizer, max_df=0.9)\n",
    "vec_train = vec.fit_transform(text_train)\n",
    "vec_test = vec.transform(text_test)"
   ],
   "metadata": {
    "collapsed": false,
    "pycharm": {
     "name": "#%%\n"
    }
   }
  },
  {
   "cell_type": "code",
   "execution_count": 113,
   "outputs": [],
   "source": [
    "scaler = MaxAbsScaler()\n",
    "vec_train = scaler.fit_transform(vec_train)\n",
    "vec_test = scaler.transform(vec_test)"
   ],
   "metadata": {
    "collapsed": false,
    "pycharm": {
     "name": "#%%\n"
    }
   }
  },
  {
   "cell_type": "code",
   "execution_count": 114,
   "outputs": [],
   "source": [
    "clf = LogisticRegression(max_iter=300, random_state=42)\n",
    "clf.fit(vec_train, y_train)\n",
    "pred_tfidf = clf.predict(vec_test)"
   ],
   "metadata": {
    "collapsed": false,
    "pycharm": {
     "name": "#%%\n"
    }
   }
  },
  {
   "cell_type": "code",
   "execution_count": 115,
   "outputs": [
    {
     "name": "stdout",
     "output_type": "stream",
     "text": [
      "              precision    recall  f1-score   support\n",
      "\n",
      "           0       0.80      0.86      0.83      1318\n",
      "           1       0.79      0.71      0.75       966\n",
      "\n",
      "    accuracy                           0.80      2284\n",
      "   macro avg       0.79      0.78      0.79      2284\n",
      "weighted avg       0.79      0.80      0.79      2284\n",
      "\n"
     ]
    }
   ],
   "source": [
    "print(classification_report(y_test, pred_tfidf))"
   ],
   "metadata": {
    "collapsed": false,
    "pycharm": {
     "name": "#%%\n"
    }
   }
  },
  {
   "cell_type": "code",
   "execution_count": 116,
   "outputs": [
    {
     "name": "stdout",
     "output_type": "stream",
     "text": [
      "Matrix shape:  (5329, 10482)\n"
     ]
    }
   ],
   "source": [
    "print(\"Matrix shape: \", vec_train.shape)"
   ],
   "metadata": {
    "collapsed": false,
    "pycharm": {
     "name": "#%%\n"
    }
   }
  },
  {
   "cell_type": "code",
   "source": [
    "# -- YOUR CODE HERE --\n",
    "print(f\"F1 score: {f1_score(y_test, pred_tfidf):.3f}\")"
   ],
   "metadata": {
    "id": "z1TkO9HeSTJ9",
    "pycharm": {
     "name": "#%%\n"
    }
   },
   "execution_count": 117,
   "outputs": [
    {
     "name": "stdout",
     "output_type": "stream",
     "text": [
      "F1 score: 0.746\n"
     ]
    }
   ]
  },
  {
   "cell_type": "markdown",
   "source": [
    "2. **Ответ:**\n",
    "   * Размеры матрицы не изменились, так как в текстах нет слов с частотой более 90%;\n",
    "   * Так как словарь получился таким же, как в предыдущем пункте, то и качество модели не изменилось.\n"
   ],
   "metadata": {
    "id": "4Two_O3rSVmh",
    "pycharm": {
     "name": "#%% md\n"
    }
   }
  },
  {
   "cell_type": "markdown",
   "source": [
    "3. Также мы можем уменьшить размер матрицы, удаляя слова со слишком маленьким df. Удалось ли добиться улучшения качества?"
   ],
   "metadata": {
    "id": "VhyjbI5X5QnG",
    "pycharm": {
     "name": "#%% md\n"
    }
   }
  },
  {
   "cell_type": "code",
   "source": [
    "# 3\n",
    "# -- YOUR CODE HERE --"
   ],
   "metadata": {
    "colab": {
     "base_uri": "https://localhost:8080/"
    },
    "id": "9mNpIxv6SfKc",
    "outputId": "607ec22e-1fdb-4c29-bbc4-6447ed266349",
    "pycharm": {
     "name": "#%%\n"
    }
   },
   "execution_count": 118,
   "outputs": []
  },
  {
   "cell_type": "code",
   "execution_count": 119,
   "outputs": [],
   "source": [
    "vec = TfidfVectorizer(tokenizer=custom_tokenizer, max_df=0.9, min_df=2)\n",
    "vec_train = vec.fit_transform(text_train)\n",
    "vec_test = vec.transform(text_test)\n",
    "\n",
    "scaler = MaxAbsScaler()\n",
    "vec_train = scaler.fit_transform(vec_train)\n",
    "vec_test = scaler.transform(vec_test)\n",
    "\n",
    "clf = LogisticRegression(max_iter=300, random_state=42)\n",
    "clf.fit(vec_train, y_train)\n",
    "pred_tfidf = clf.predict(vec_test)"
   ],
   "metadata": {
    "collapsed": false,
    "pycharm": {
     "name": "#%%\n"
    }
   }
  },
  {
   "cell_type": "code",
   "execution_count": 120,
   "outputs": [
    {
     "name": "stdout",
     "output_type": "stream",
     "text": [
      "              precision    recall  f1-score   support\n",
      "\n",
      "           0       0.81      0.86      0.83      1318\n",
      "           1       0.79      0.72      0.75       966\n",
      "\n",
      "    accuracy                           0.80      2284\n",
      "   macro avg       0.80      0.79      0.79      2284\n",
      "weighted avg       0.80      0.80      0.80      2284\n",
      "\n"
     ]
    }
   ],
   "source": [
    "print(classification_report(y_test, pred_tfidf))"
   ],
   "metadata": {
    "collapsed": false,
    "pycharm": {
     "name": "#%%\n"
    }
   }
  },
  {
   "cell_type": "code",
   "execution_count": 121,
   "outputs": [
    {
     "name": "stdout",
     "output_type": "stream",
     "text": [
      "Matrix shape:  (5329, 4523)\n",
      "F1 score: 0.752\n"
     ]
    }
   ],
   "source": [
    "print(\"Matrix shape: \", vec_train.shape)\n",
    "print(f\"F1 score: {f1_score(y_test, clf.predict(vec_test)):.3f}\")"
   ],
   "metadata": {
    "collapsed": false,
    "pycharm": {
     "name": "#%%\n"
    }
   }
  },
  {
   "cell_type": "markdown",
   "source": [
    "3. **Ответ:**\n",
    "  * Удаление слов, встречающихся в выборке менее двух раз, позволило уменьшить количество слов в словаре примерно в 2 раза и при этом увеличить качество модели (F1-score увеличился на 0.006, достигнув 0.752)."
   ],
   "metadata": {
    "id": "imeD8skxSqdg",
    "pycharm": {
     "name": "#%% md\n"
    }
   }
  },
  {
   "cell_type": "markdown",
   "metadata": {
    "id": "1l1sx4nB3HvN",
    "pycharm": {
     "name": "#%% md\n"
    }
   },
   "source": [
    "## Задание 10 (1 балл)\n",
    "\n",
    "Еще один популяпный трюк, который позволит уменьшить количество признаков называется hashing trick. Его суть в том, то мы случайно группируем признаки ииии  ..... складываем их! А потом удаляем исходные признаки. В итоге все наши признаки это просто суммы исходных. Звучит странно, но это отлично работает. Давайте проверим этот трюк в нашем сеттинге.\n",
    "Также при таком подходе вам не нужно хранить словарь token->index, что тоже иногда полезно.\n",
    "\n",
    "1. Повторите задание 8 с HashingVectorizer, укажите количество фичей равное 5000.\n"
   ]
  },
  {
   "cell_type": "code",
   "source": [
    "from sklearn.feature_extraction.text import HashingVectorizer"
   ],
   "metadata": {
    "colab": {
     "base_uri": "https://localhost:8080/"
    },
    "id": "8qSoW894RXxz",
    "outputId": "720818f4-f774-4273-bb10-918ecc72ef44",
    "pycharm": {
     "name": "#%%\n"
    }
   },
   "execution_count": 122,
   "outputs": []
  },
  {
   "cell_type": "code",
   "execution_count": 123,
   "outputs": [
    {
     "name": "stderr",
     "output_type": "stream",
     "text": [
      "C:\\Users\\ageev\\anaconda3\\lib\\site-packages\\sklearn\\feature_extraction\\text.py:516: UserWarning: The parameter 'token_pattern' will not be used since 'tokenizer' is not None'\n",
      "  warnings.warn(\n"
     ]
    }
   ],
   "source": [
    "hash_vec = HashingVectorizer(tokenizer=custom_tokenizer, n_features=5000)\n",
    "hv_train = hash_vec.fit_transform(text_train)\n",
    "hv_test = hash_vec.transform(text_test)\n",
    "\n",
    "scaler = MaxAbsScaler()\n",
    "hv_train = scaler.fit_transform(hv_train)\n",
    "hv_test = scaler.transform(hv_test)\n",
    "\n",
    "clf = LogisticRegression(max_iter=300, random_state=42)\n",
    "clf.fit(hv_train, y_train)\n",
    "pred_hv = clf.predict(hv_test)"
   ],
   "metadata": {
    "collapsed": false,
    "pycharm": {
     "name": "#%%\n"
    }
   }
  },
  {
   "cell_type": "code",
   "execution_count": 124,
   "outputs": [
    {
     "name": "stdout",
     "output_type": "stream",
     "text": [
      "              precision    recall  f1-score   support\n",
      "\n",
      "           0       0.79      0.84      0.82      1318\n",
      "           1       0.77      0.70      0.73       966\n",
      "\n",
      "    accuracy                           0.78      2284\n",
      "   macro avg       0.78      0.77      0.78      2284\n",
      "weighted avg       0.78      0.78      0.78      2284\n",
      "\n"
     ]
    }
   ],
   "source": [
    "print(classification_report(y_test, pred_hv))"
   ],
   "metadata": {
    "collapsed": false,
    "pycharm": {
     "name": "#%%\n"
    }
   }
  },
  {
   "cell_type": "code",
   "execution_count": 125,
   "outputs": [
    {
     "name": "stdout",
     "output_type": "stream",
     "text": [
      "Matrix shape:  (5329, 5000)\n",
      "F1 score: 0.733\n"
     ]
    }
   ],
   "source": [
    "print(\"Matrix shape: \", hv_train.shape)\n",
    "print(f\"F1 score: {f1_score(y_test, clf.predict(hv_test)):.3f}\")"
   ],
   "metadata": {
    "collapsed": false,
    "pycharm": {
     "name": "#%%\n"
    }
   }
  },
  {
   "cell_type": "markdown",
   "source": [
    "HashingVectorizer имеет наименьший F1-score из всех примененных подходов."
   ],
   "metadata": {
    "collapsed": false,
    "pycharm": {
     "name": "#%% md\n"
    }
   }
  },
  {
   "cell_type": "markdown",
   "source": [
    "2. Какой из подходов показал самый высокий результат?"
   ],
   "metadata": {
    "id": "1C3I4ceg6AG-",
    "pycharm": {
     "name": "#%% md\n"
    }
   }
  },
  {
   "cell_type": "markdown",
   "source": [
    "2. **Ответ:**\n",
    "    Наилучший результат показал подход, использующий TfidfVectorizer с ограничением на минимальное количество вхождений слова в выборку. Этот способ позволил достичь F1-score равный 0.752 на тестовых данных."
   ],
   "metadata": {
    "id": "_bIfyVlOS9Lu",
    "pycharm": {
     "name": "#%% md\n"
    }
   }
  },
  {
   "cell_type": "markdown",
   "metadata": {
    "id": "zylJ6l0R3HvN",
    "pycharm": {
     "name": "#%% md\n"
    }
   },
   "source": [
    "## Задание 11 (1 балл)\n",
    "\n",
    "В этом задании нужно добиться f1 меры хотя в 0.75 на тестовых данных."
   ]
  },
  {
   "cell_type": "code",
   "execution_count": 126,
   "outputs": [],
   "source": [
    "# -- YOUR CODE HERE --\n",
    "bow_vec = CountVectorizer()\n",
    "bow_train = bow_vec.fit_transform(text_train)\n",
    "bow_test = bow_vec.transform(text_test)\n",
    "\n",
    "scaler = MaxAbsScaler()\n",
    "bow_train = scaler.fit_transform(bow_train)\n",
    "bow_test = scaler.transform(bow_test)\n",
    "\n",
    "clf = LogisticRegression(max_iter=300, random_state=42)\n",
    "clf.fit(bow_train, y_train)\n",
    "pred_bow = clf.predict(bow_test)"
   ],
   "metadata": {
    "collapsed": false,
    "pycharm": {
     "name": "#%%\n"
    }
   }
  },
  {
   "cell_type": "code",
   "execution_count": 127,
   "outputs": [
    {
     "name": "stdout",
     "output_type": "stream",
     "text": [
      "              precision    recall  f1-score   support\n",
      "\n",
      "           0       0.81      0.88      0.84      1318\n",
      "           1       0.81      0.71      0.76       966\n",
      "\n",
      "    accuracy                           0.81      2284\n",
      "   macro avg       0.81      0.80      0.80      2284\n",
      "weighted avg       0.81      0.81      0.81      2284\n",
      "\n"
     ]
    }
   ],
   "source": [
    "print(classification_report(y_test, pred_bow))"
   ],
   "metadata": {
    "collapsed": false,
    "pycharm": {
     "name": "#%%\n"
    }
   }
  },
  {
   "cell_type": "code",
   "execution_count": 128,
   "outputs": [
    {
     "name": "stdout",
     "output_type": "stream",
     "text": [
      "Matrix shape:  (5329, 18455)\n"
     ]
    }
   ],
   "source": [
    "print(\"Matrix shape: \", bow_train.shape)"
   ],
   "metadata": {
    "collapsed": false,
    "pycharm": {
     "name": "#%%\n"
    }
   }
  },
  {
   "cell_type": "code",
   "execution_count": 129,
   "outputs": [
    {
     "name": "stdout",
     "output_type": "stream",
     "text": [
      "F1 score: 0.758\n"
     ]
    }
   ],
   "source": [
    "print(f\"F1 score: {f1_score(y_test, clf.predict(bow_test)):.3f}\")"
   ],
   "metadata": {
    "collapsed": false,
    "pycharm": {
     "name": "#%%\n"
    }
   }
  },
  {
   "cell_type": "markdown",
   "source": [
    "#### Итог:\n",
    "Лучшего результата с F1-score рвным 0.758 удалось достичь с помощью CountVectorizer c токенизатором по умолчанию.\n",
    "Удивительно, но самая простая из моделей оказалась в данном случае самой эффективной."
   ],
   "metadata": {
    "collapsed": false,
    "pycharm": {
     "name": "#%% md\n"
    }
   }
  }
 ],
 "metadata": {
  "kernelspec": {
   "display_name": "Python 3 (ipykernel)",
   "language": "python",
   "name": "python3"
  },
  "language_info": {
   "codemirror_mode": {
    "name": "ipython",
    "version": 3
   },
   "file_extension": ".py",
   "mimetype": "text/x-python",
   "name": "python",
   "nbconvert_exporter": "python",
   "pygments_lexer": "ipython3",
   "version": "3.8.5"
  },
  "colab": {
   "provenance": [],
   "collapsed_sections": [
    "YlLemInT3HvL",
    "A8CPBUal3HvL"
   ]
  }
 },
 "nbformat": 4,
 "nbformat_minor": 0
}
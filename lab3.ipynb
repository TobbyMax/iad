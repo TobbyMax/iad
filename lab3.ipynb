{
  "cells": [
    {
      "cell_type": "markdown",
      "id": "83915e47",
      "metadata": {
        "id": "83915e47"
      },
      "source": [
        "# Лабораторная работа №3"
      ]
    },
    {
      "cell_type": "markdown",
      "id": "2519392c",
      "metadata": {
        "id": "2519392c"
      },
      "source": [
        "Кутузов Дмитрий, 21ПИ-1"
      ]
    },
    {
      "cell_type": "code",
      "execution_count": null,
      "id": "13252e5d",
      "metadata": {
        "id": "13252e5d"
      },
      "outputs": [],
      "source": [
        "import pandas as pd\n",
        "import numpy as np"
      ]
    },
    {
      "cell_type": "code",
      "execution_count": null,
      "id": "f47d1892",
      "metadata": {
        "id": "f47d1892"
      },
      "outputs": [],
      "source": [
        "train = pd.read_csv(\"TrainData_new.csv\")\n",
        "test = pd.read_csv(\"TestData_new.csv\")"
      ]
    },
    {
      "cell_type": "code",
      "execution_count": null,
      "id": "b8394bdb",
      "metadata": {
        "colab": {
          "base_uri": "https://localhost:8080/",
          "height": 226
        },
        "id": "b8394bdb",
        "outputId": "9398fefd-014c-4cc6-deca-3feb52c20a74"
      },
      "outputs": [
        {
          "output_type": "execute_result",
          "data": {
            "text/plain": [
              "   feature_0  feature_1  feature_2  feature_3  feature_4  feature_5  \\\n",
              "0   2.740701   8.506838  47.724081  29.151119        NaN  14.293323   \n",
              "1   1.330506   1.641074  19.835795  25.552527  34.141593  26.684477   \n",
              "2   4.334999   0.415631  39.610327   8.303514   5.141777  86.943615   \n",
              "3   0.251638   8.136452  16.871775  32.260907  24.638119  47.652316   \n",
              "4   0.647545   1.753623   2.948700  15.841658        NaN  24.862920   \n",
              "\n",
              "   feature_6  feature_7  feature_8  feature_9  feature_10  feature_11  \\\n",
              "0   2.255775  51.659614  30.097626  69.505159    1.710745   88.430339   \n",
              "1  23.762340   8.319554  14.627584  35.962469   37.903265   71.587453   \n",
              "2  37.501950  48.213628  15.251909   9.587599   56.865540   40.130363   \n",
              "3  21.232416  11.024905  48.546775  76.087864   78.080292  631.536797   \n",
              "4  32.185420  21.277126  14.066296  53.271626   11.711993   73.139324   \n",
              "\n",
              "   feature_12  feature_13 cat_feature_1   cat_feature_2  target  \n",
              "0   21.172353   16.403757             B     individuals       0  \n",
              "1    5.078505   39.725969             A     individuals       0  \n",
              "2    3.103922   38.253725             C  legal entities       0  \n",
              "3   15.206993   71.217221             C  legal entities       0  \n",
              "4    1.896122   76.239624             A     individuals       0  "
            ],
            "text/html": [
              "\n",
              "  <div id=\"df-e0c0b3d4-661e-4601-bf16-56da250e4d9c\" class=\"colab-df-container\">\n",
              "    <div>\n",
              "<style scoped>\n",
              "    .dataframe tbody tr th:only-of-type {\n",
              "        vertical-align: middle;\n",
              "    }\n",
              "\n",
              "    .dataframe tbody tr th {\n",
              "        vertical-align: top;\n",
              "    }\n",
              "\n",
              "    .dataframe thead th {\n",
              "        text-align: right;\n",
              "    }\n",
              "</style>\n",
              "<table border=\"1\" class=\"dataframe\">\n",
              "  <thead>\n",
              "    <tr style=\"text-align: right;\">\n",
              "      <th></th>\n",
              "      <th>feature_0</th>\n",
              "      <th>feature_1</th>\n",
              "      <th>feature_2</th>\n",
              "      <th>feature_3</th>\n",
              "      <th>feature_4</th>\n",
              "      <th>feature_5</th>\n",
              "      <th>feature_6</th>\n",
              "      <th>feature_7</th>\n",
              "      <th>feature_8</th>\n",
              "      <th>feature_9</th>\n",
              "      <th>feature_10</th>\n",
              "      <th>feature_11</th>\n",
              "      <th>feature_12</th>\n",
              "      <th>feature_13</th>\n",
              "      <th>cat_feature_1</th>\n",
              "      <th>cat_feature_2</th>\n",
              "      <th>target</th>\n",
              "    </tr>\n",
              "  </thead>\n",
              "  <tbody>\n",
              "    <tr>\n",
              "      <th>0</th>\n",
              "      <td>2.740701</td>\n",
              "      <td>8.506838</td>\n",
              "      <td>47.724081</td>\n",
              "      <td>29.151119</td>\n",
              "      <td>NaN</td>\n",
              "      <td>14.293323</td>\n",
              "      <td>2.255775</td>\n",
              "      <td>51.659614</td>\n",
              "      <td>30.097626</td>\n",
              "      <td>69.505159</td>\n",
              "      <td>1.710745</td>\n",
              "      <td>88.430339</td>\n",
              "      <td>21.172353</td>\n",
              "      <td>16.403757</td>\n",
              "      <td>B</td>\n",
              "      <td>individuals</td>\n",
              "      <td>0</td>\n",
              "    </tr>\n",
              "    <tr>\n",
              "      <th>1</th>\n",
              "      <td>1.330506</td>\n",
              "      <td>1.641074</td>\n",
              "      <td>19.835795</td>\n",
              "      <td>25.552527</td>\n",
              "      <td>34.141593</td>\n",
              "      <td>26.684477</td>\n",
              "      <td>23.762340</td>\n",
              "      <td>8.319554</td>\n",
              "      <td>14.627584</td>\n",
              "      <td>35.962469</td>\n",
              "      <td>37.903265</td>\n",
              "      <td>71.587453</td>\n",
              "      <td>5.078505</td>\n",
              "      <td>39.725969</td>\n",
              "      <td>A</td>\n",
              "      <td>individuals</td>\n",
              "      <td>0</td>\n",
              "    </tr>\n",
              "    <tr>\n",
              "      <th>2</th>\n",
              "      <td>4.334999</td>\n",
              "      <td>0.415631</td>\n",
              "      <td>39.610327</td>\n",
              "      <td>8.303514</td>\n",
              "      <td>5.141777</td>\n",
              "      <td>86.943615</td>\n",
              "      <td>37.501950</td>\n",
              "      <td>48.213628</td>\n",
              "      <td>15.251909</td>\n",
              "      <td>9.587599</td>\n",
              "      <td>56.865540</td>\n",
              "      <td>40.130363</td>\n",
              "      <td>3.103922</td>\n",
              "      <td>38.253725</td>\n",
              "      <td>C</td>\n",
              "      <td>legal entities</td>\n",
              "      <td>0</td>\n",
              "    </tr>\n",
              "    <tr>\n",
              "      <th>3</th>\n",
              "      <td>0.251638</td>\n",
              "      <td>8.136452</td>\n",
              "      <td>16.871775</td>\n",
              "      <td>32.260907</td>\n",
              "      <td>24.638119</td>\n",
              "      <td>47.652316</td>\n",
              "      <td>21.232416</td>\n",
              "      <td>11.024905</td>\n",
              "      <td>48.546775</td>\n",
              "      <td>76.087864</td>\n",
              "      <td>78.080292</td>\n",
              "      <td>631.536797</td>\n",
              "      <td>15.206993</td>\n",
              "      <td>71.217221</td>\n",
              "      <td>C</td>\n",
              "      <td>legal entities</td>\n",
              "      <td>0</td>\n",
              "    </tr>\n",
              "    <tr>\n",
              "      <th>4</th>\n",
              "      <td>0.647545</td>\n",
              "      <td>1.753623</td>\n",
              "      <td>2.948700</td>\n",
              "      <td>15.841658</td>\n",
              "      <td>NaN</td>\n",
              "      <td>24.862920</td>\n",
              "      <td>32.185420</td>\n",
              "      <td>21.277126</td>\n",
              "      <td>14.066296</td>\n",
              "      <td>53.271626</td>\n",
              "      <td>11.711993</td>\n",
              "      <td>73.139324</td>\n",
              "      <td>1.896122</td>\n",
              "      <td>76.239624</td>\n",
              "      <td>A</td>\n",
              "      <td>individuals</td>\n",
              "      <td>0</td>\n",
              "    </tr>\n",
              "  </tbody>\n",
              "</table>\n",
              "</div>\n",
              "    <div class=\"colab-df-buttons\">\n",
              "\n",
              "  <div class=\"colab-df-container\">\n",
              "    <button class=\"colab-df-convert\" onclick=\"convertToInteractive('df-e0c0b3d4-661e-4601-bf16-56da250e4d9c')\"\n",
              "            title=\"Convert this dataframe to an interactive table.\"\n",
              "            style=\"display:none;\">\n",
              "\n",
              "  <svg xmlns=\"http://www.w3.org/2000/svg\" height=\"24px\" viewBox=\"0 -960 960 960\">\n",
              "    <path d=\"M120-120v-720h720v720H120Zm60-500h600v-160H180v160Zm220 220h160v-160H400v160Zm0 220h160v-160H400v160ZM180-400h160v-160H180v160Zm440 0h160v-160H620v160ZM180-180h160v-160H180v160Zm440 0h160v-160H620v160Z\"/>\n",
              "  </svg>\n",
              "    </button>\n",
              "\n",
              "  <style>\n",
              "    .colab-df-container {\n",
              "      display:flex;\n",
              "      gap: 12px;\n",
              "    }\n",
              "\n",
              "    .colab-df-convert {\n",
              "      background-color: #E8F0FE;\n",
              "      border: none;\n",
              "      border-radius: 50%;\n",
              "      cursor: pointer;\n",
              "      display: none;\n",
              "      fill: #1967D2;\n",
              "      height: 32px;\n",
              "      padding: 0 0 0 0;\n",
              "      width: 32px;\n",
              "    }\n",
              "\n",
              "    .colab-df-convert:hover {\n",
              "      background-color: #E2EBFA;\n",
              "      box-shadow: 0px 1px 2px rgba(60, 64, 67, 0.3), 0px 1px 3px 1px rgba(60, 64, 67, 0.15);\n",
              "      fill: #174EA6;\n",
              "    }\n",
              "\n",
              "    .colab-df-buttons div {\n",
              "      margin-bottom: 4px;\n",
              "    }\n",
              "\n",
              "    [theme=dark] .colab-df-convert {\n",
              "      background-color: #3B4455;\n",
              "      fill: #D2E3FC;\n",
              "    }\n",
              "\n",
              "    [theme=dark] .colab-df-convert:hover {\n",
              "      background-color: #434B5C;\n",
              "      box-shadow: 0px 1px 3px 1px rgba(0, 0, 0, 0.15);\n",
              "      filter: drop-shadow(0px 1px 2px rgba(0, 0, 0, 0.3));\n",
              "      fill: #FFFFFF;\n",
              "    }\n",
              "  </style>\n",
              "\n",
              "    <script>\n",
              "      const buttonEl =\n",
              "        document.querySelector('#df-e0c0b3d4-661e-4601-bf16-56da250e4d9c button.colab-df-convert');\n",
              "      buttonEl.style.display =\n",
              "        google.colab.kernel.accessAllowed ? 'block' : 'none';\n",
              "\n",
              "      async function convertToInteractive(key) {\n",
              "        const element = document.querySelector('#df-e0c0b3d4-661e-4601-bf16-56da250e4d9c');\n",
              "        const dataTable =\n",
              "          await google.colab.kernel.invokeFunction('convertToInteractive',\n",
              "                                                    [key], {});\n",
              "        if (!dataTable) return;\n",
              "\n",
              "        const docLinkHtml = 'Like what you see? Visit the ' +\n",
              "          '<a target=\"_blank\" href=https://colab.research.google.com/notebooks/data_table.ipynb>data table notebook</a>'\n",
              "          + ' to learn more about interactive tables.';\n",
              "        element.innerHTML = '';\n",
              "        dataTable['output_type'] = 'display_data';\n",
              "        await google.colab.output.renderOutput(dataTable, element);\n",
              "        const docLink = document.createElement('div');\n",
              "        docLink.innerHTML = docLinkHtml;\n",
              "        element.appendChild(docLink);\n",
              "      }\n",
              "    </script>\n",
              "  </div>\n",
              "\n",
              "\n",
              "<div id=\"df-5f9251a9-b959-4434-a520-d944e9d9582c\">\n",
              "  <button class=\"colab-df-quickchart\" onclick=\"quickchart('df-5f9251a9-b959-4434-a520-d944e9d9582c')\"\n",
              "            title=\"Suggest charts\"\n",
              "            style=\"display:none;\">\n",
              "\n",
              "<svg xmlns=\"http://www.w3.org/2000/svg\" height=\"24px\"viewBox=\"0 0 24 24\"\n",
              "     width=\"24px\">\n",
              "    <g>\n",
              "        <path d=\"M19 3H5c-1.1 0-2 .9-2 2v14c0 1.1.9 2 2 2h14c1.1 0 2-.9 2-2V5c0-1.1-.9-2-2-2zM9 17H7v-7h2v7zm4 0h-2V7h2v10zm4 0h-2v-4h2v4z\"/>\n",
              "    </g>\n",
              "</svg>\n",
              "  </button>\n",
              "\n",
              "<style>\n",
              "  .colab-df-quickchart {\n",
              "      --bg-color: #E8F0FE;\n",
              "      --fill-color: #1967D2;\n",
              "      --hover-bg-color: #E2EBFA;\n",
              "      --hover-fill-color: #174EA6;\n",
              "      --disabled-fill-color: #AAA;\n",
              "      --disabled-bg-color: #DDD;\n",
              "  }\n",
              "\n",
              "  [theme=dark] .colab-df-quickchart {\n",
              "      --bg-color: #3B4455;\n",
              "      --fill-color: #D2E3FC;\n",
              "      --hover-bg-color: #434B5C;\n",
              "      --hover-fill-color: #FFFFFF;\n",
              "      --disabled-bg-color: #3B4455;\n",
              "      --disabled-fill-color: #666;\n",
              "  }\n",
              "\n",
              "  .colab-df-quickchart {\n",
              "    background-color: var(--bg-color);\n",
              "    border: none;\n",
              "    border-radius: 50%;\n",
              "    cursor: pointer;\n",
              "    display: none;\n",
              "    fill: var(--fill-color);\n",
              "    height: 32px;\n",
              "    padding: 0;\n",
              "    width: 32px;\n",
              "  }\n",
              "\n",
              "  .colab-df-quickchart:hover {\n",
              "    background-color: var(--hover-bg-color);\n",
              "    box-shadow: 0 1px 2px rgba(60, 64, 67, 0.3), 0 1px 3px 1px rgba(60, 64, 67, 0.15);\n",
              "    fill: var(--button-hover-fill-color);\n",
              "  }\n",
              "\n",
              "  .colab-df-quickchart-complete:disabled,\n",
              "  .colab-df-quickchart-complete:disabled:hover {\n",
              "    background-color: var(--disabled-bg-color);\n",
              "    fill: var(--disabled-fill-color);\n",
              "    box-shadow: none;\n",
              "  }\n",
              "\n",
              "  .colab-df-spinner {\n",
              "    border: 2px solid var(--fill-color);\n",
              "    border-color: transparent;\n",
              "    border-bottom-color: var(--fill-color);\n",
              "    animation:\n",
              "      spin 1s steps(1) infinite;\n",
              "  }\n",
              "\n",
              "  @keyframes spin {\n",
              "    0% {\n",
              "      border-color: transparent;\n",
              "      border-bottom-color: var(--fill-color);\n",
              "      border-left-color: var(--fill-color);\n",
              "    }\n",
              "    20% {\n",
              "      border-color: transparent;\n",
              "      border-left-color: var(--fill-color);\n",
              "      border-top-color: var(--fill-color);\n",
              "    }\n",
              "    30% {\n",
              "      border-color: transparent;\n",
              "      border-left-color: var(--fill-color);\n",
              "      border-top-color: var(--fill-color);\n",
              "      border-right-color: var(--fill-color);\n",
              "    }\n",
              "    40% {\n",
              "      border-color: transparent;\n",
              "      border-right-color: var(--fill-color);\n",
              "      border-top-color: var(--fill-color);\n",
              "    }\n",
              "    60% {\n",
              "      border-color: transparent;\n",
              "      border-right-color: var(--fill-color);\n",
              "    }\n",
              "    80% {\n",
              "      border-color: transparent;\n",
              "      border-right-color: var(--fill-color);\n",
              "      border-bottom-color: var(--fill-color);\n",
              "    }\n",
              "    90% {\n",
              "      border-color: transparent;\n",
              "      border-bottom-color: var(--fill-color);\n",
              "    }\n",
              "  }\n",
              "</style>\n",
              "\n",
              "  <script>\n",
              "    async function quickchart(key) {\n",
              "      const quickchartButtonEl =\n",
              "        document.querySelector('#' + key + ' button');\n",
              "      quickchartButtonEl.disabled = true;  // To prevent multiple clicks.\n",
              "      quickchartButtonEl.classList.add('colab-df-spinner');\n",
              "      try {\n",
              "        const charts = await google.colab.kernel.invokeFunction(\n",
              "            'suggestCharts', [key], {});\n",
              "      } catch (error) {\n",
              "        console.error('Error during call to suggestCharts:', error);\n",
              "      }\n",
              "      quickchartButtonEl.classList.remove('colab-df-spinner');\n",
              "      quickchartButtonEl.classList.add('colab-df-quickchart-complete');\n",
              "    }\n",
              "    (() => {\n",
              "      let quickchartButtonEl =\n",
              "        document.querySelector('#df-5f9251a9-b959-4434-a520-d944e9d9582c button');\n",
              "      quickchartButtonEl.style.display =\n",
              "        google.colab.kernel.accessAllowed ? 'block' : 'none';\n",
              "    })();\n",
              "  </script>\n",
              "</div>\n",
              "    </div>\n",
              "  </div>\n"
            ],
            "application/vnd.google.colaboratory.intrinsic+json": {
              "type": "dataframe",
              "variable_name": "train",
              "summary": "{\n  \"name\": \"train\",\n  \"rows\": 1000,\n  \"fields\": [\n    {\n      \"column\": \"feature_0\",\n      \"properties\": {\n        \"dtype\": \"number\",\n        \"std\": 131.30690296517247,\n        \"min\": 0.0009856173906572,\n        \"max\": 1008.8513778823216,\n        \"num_unique_values\": 906,\n        \"samples\": [\n          3.263355270894116,\n          3.046169076186385,\n          3.490330686549354\n        ],\n        \"semantic_type\": \"\",\n        \"description\": \"\"\n      }\n    },\n    {\n      \"column\": \"feature_1\",\n      \"properties\": {\n        \"dtype\": \"number\",\n        \"std\": 166.03021926919507,\n        \"min\": 0.0374685684659697,\n        \"max\": 1070.9120703627648,\n        \"num_unique_values\": 922,\n        \"samples\": [\n          7.940928571736838,\n          0.8733988372844708,\n          2.2824792181742954\n        ],\n        \"semantic_type\": \"\",\n        \"description\": \"\"\n      }\n    },\n    {\n      \"column\": \"feature_2\",\n      \"properties\": {\n        \"dtype\": \"number\",\n        \"std\": 160.5999911951354,\n        \"min\": 0.0389840402820264,\n        \"max\": 1085.903827123464,\n        \"num_unique_values\": 918,\n        \"samples\": [\n          53.66314331702884,\n          50.66793610409858,\n          62.87329595280602\n        ],\n        \"semantic_type\": \"\",\n        \"description\": \"\"\n      }\n    },\n    {\n      \"column\": \"feature_3\",\n      \"properties\": {\n        \"dtype\": \"number\",\n        \"std\": 168.1038092464328,\n        \"min\": 0.0025723584090845,\n        \"max\": 1096.1602962166742,\n        \"num_unique_values\": 913,\n        \"samples\": [\n          35.1110870862094,\n          2.1131617204573403,\n          48.22101672748819\n        ],\n        \"semantic_type\": \"\",\n        \"description\": \"\"\n      }\n    },\n    {\n      \"column\": \"feature_4\",\n      \"properties\": {\n        \"dtype\": \"number\",\n        \"std\": 143.0444131230272,\n        \"min\": 0.0009196288075131,\n        \"max\": 1092.5380699054776,\n        \"num_unique_values\": 904,\n        \"samples\": [\n          55.12920799658323,\n          24.49078863492293,\n          60.41565732724848\n        ],\n        \"semantic_type\": \"\",\n        \"description\": \"\"\n      }\n    },\n    {\n      \"column\": \"feature_5\",\n      \"properties\": {\n        \"dtype\": \"number\",\n        \"std\": 158.9840614706025,\n        \"min\": 0.0222593737730557,\n        \"max\": 1076.270063241122,\n        \"num_unique_values\": 922,\n        \"samples\": [\n          80.62401118219825,\n          90.0220136802939,\n          86.40623752593899\n        ],\n        \"semantic_type\": \"\",\n        \"description\": \"\"\n      }\n    },\n    {\n      \"column\": \"feature_6\",\n      \"properties\": {\n        \"dtype\": \"number\",\n        \"std\": 151.55294011175297,\n        \"min\": 0.0554721141903626,\n        \"max\": 1082.2984363204191,\n        \"num_unique_values\": 931,\n        \"samples\": [\n          2.8806192832441373,\n          286.506682785776,\n          7.252090987585549\n        ],\n        \"semantic_type\": \"\",\n        \"description\": \"\"\n      }\n    },\n    {\n      \"column\": \"feature_7\",\n      \"properties\": {\n        \"dtype\": \"number\",\n        \"std\": 156.73355452193397,\n        \"min\": 0.0018321027391176,\n        \"max\": 1083.218564796211,\n        \"num_unique_values\": 929,\n        \"samples\": [\n          37.41730412788503,\n          10.240001900618752,\n          4.636171689883444\n        ],\n        \"semantic_type\": \"\",\n        \"description\": \"\"\n      }\n    },\n    {\n      \"column\": \"feature_8\",\n      \"properties\": {\n        \"dtype\": \"number\",\n        \"std\": 135.4843283288805,\n        \"min\": 0.0205430538614886,\n        \"max\": 1099.4505229919637,\n        \"num_unique_values\": 914,\n        \"samples\": [\n          13.277009590048904,\n          20.21477536850085,\n          49.2355406718652\n        ],\n        \"semantic_type\": \"\",\n        \"description\": \"\"\n      }\n    },\n    {\n      \"column\": \"feature_9\",\n      \"properties\": {\n        \"dtype\": \"number\",\n        \"std\": 134.9622026728145,\n        \"min\": 0.0236444993410464,\n        \"max\": 1091.778571766039,\n        \"num_unique_values\": 910,\n        \"samples\": [\n          30.43153582981629,\n          56.17906846004601,\n          72.87182406759324\n        ],\n        \"semantic_type\": \"\",\n        \"description\": \"\"\n      }\n    },\n    {\n      \"column\": \"feature_10\",\n      \"properties\": {\n        \"dtype\": \"number\",\n        \"std\": 151.0893080526915,\n        \"min\": 0.2510599080735784,\n        \"max\": 1083.5203077227347,\n        \"num_unique_values\": 915,\n        \"samples\": [\n          26.59604016897961,\n          14.92031645708405,\n          11.118093034957656\n        ],\n        \"semantic_type\": \"\",\n        \"description\": \"\"\n      }\n    },\n    {\n      \"column\": \"feature_11\",\n      \"properties\": {\n        \"dtype\": \"number\",\n        \"std\": 152.93288150035096,\n        \"min\": 0.014382168009062,\n        \"max\": 1097.5477616173605,\n        \"num_unique_values\": 907,\n        \"samples\": [\n          62.909099209562456,\n          11.932926932156814,\n          87.42396441942375\n        ],\n        \"semantic_type\": \"\",\n        \"description\": \"\"\n      }\n    },\n    {\n      \"column\": \"feature_12\",\n      \"properties\": {\n        \"dtype\": \"number\",\n        \"std\": 148.4445516432374,\n        \"min\": 0.0344281283019467,\n        \"max\": 1079.8101738893552,\n        \"num_unique_values\": 920,\n        \"samples\": [\n          9.718932304640973,\n          16.590123535946073,\n          4.572979163059921\n        ],\n        \"semantic_type\": \"\",\n        \"description\": \"\"\n      }\n    },\n    {\n      \"column\": \"feature_13\",\n      \"properties\": {\n        \"dtype\": \"number\",\n        \"std\": 148.6392101876631,\n        \"min\": 0.0859122151600538,\n        \"max\": 1090.1728054184318,\n        \"num_unique_values\": 917,\n        \"samples\": [\n          11.100556339639155,\n          68.77522966404464,\n          336.77226140390337\n        ],\n        \"semantic_type\": \"\",\n        \"description\": \"\"\n      }\n    },\n    {\n      \"column\": \"cat_feature_1\",\n      \"properties\": {\n        \"dtype\": \"category\",\n        \"num_unique_values\": 3,\n        \"samples\": [\n          \"B\",\n          \"A\",\n          \"C\"\n        ],\n        \"semantic_type\": \"\",\n        \"description\": \"\"\n      }\n    },\n    {\n      \"column\": \"cat_feature_2\",\n      \"properties\": {\n        \"dtype\": \"category\",\n        \"num_unique_values\": 2,\n        \"samples\": [\n          \"legal entities\",\n          \"individuals\"\n        ],\n        \"semantic_type\": \"\",\n        \"description\": \"\"\n      }\n    },\n    {\n      \"column\": \"target\",\n      \"properties\": {\n        \"dtype\": \"number\",\n        \"std\": 0,\n        \"min\": 0,\n        \"max\": 1,\n        \"num_unique_values\": 2,\n        \"samples\": [\n          1,\n          0\n        ],\n        \"semantic_type\": \"\",\n        \"description\": \"\"\n      }\n    }\n  ]\n}"
            }
          },
          "metadata": {},
          "execution_count": 7
        }
      ],
      "source": [
        "train.head(5)"
      ]
    },
    {
      "cell_type": "markdown",
      "id": "35627877",
      "metadata": {
        "id": "35627877"
      },
      "source": [
        "## Часть 1: Работа с пропусками"
      ]
    },
    {
      "cell_type": "markdown",
      "id": "fc56f104",
      "metadata": {
        "id": "fc56f104"
      },
      "source": [
        "### Задание 1"
      ]
    },
    {
      "cell_type": "markdown",
      "id": "20a767bb",
      "metadata": {
        "id": "20a767bb"
      },
      "source": [
        "Проверьте, есть ли в тренировочных и тестовых данных пропуски? Укажите количество столбцов тренировочной выборки, имеющих пропуски."
      ]
    },
    {
      "cell_type": "code",
      "execution_count": null,
      "id": "1cbecae7",
      "metadata": {
        "id": "1cbecae7"
      },
      "outputs": [],
      "source": [
        "train.isnull().sum()"
      ]
    },
    {
      "cell_type": "code",
      "execution_count": null,
      "id": "47be4cc3",
      "metadata": {
        "id": "47be4cc3"
      },
      "outputs": [],
      "source": [
        "test.isnull().sum()"
      ]
    },
    {
      "cell_type": "markdown",
      "id": "fbb4436d",
      "metadata": {
        "id": "fbb4436d"
      },
      "source": [
        "Пропуски есть и в тренеровочных, и в тестовых данных. В тренировочной выборке **14** столбцов имеет пропуски."
      ]
    },
    {
      "cell_type": "markdown",
      "id": "3ca87179",
      "metadata": {
        "id": "3ca87179"
      },
      "source": [
        "### Задание 2"
      ]
    },
    {
      "cell_type": "markdown",
      "id": "d2ccfa11",
      "metadata": {
        "id": "d2ccfa11"
      },
      "source": [
        "a) В столбце с наибольшим количеством пропусков заполните пропуски средним значением по столбцу. В ответ запишите значение вычисленного среднего. Ответ округлите до десятых."
      ]
    },
    {
      "cell_type": "code",
      "execution_count": null,
      "id": "b9526a72",
      "metadata": {
        "id": "b9526a72"
      },
      "outputs": [],
      "source": [
        "print(\"Cтолбец с наибольшем количеством пропусков:\", train.isna().sum().idxmax())\n",
        "\n",
        "mean_val = train[train.isna().sum().idxmax()].mean()\n",
        "print(\"Среднее значение по столбцу c наибольшем количеством пропусков\",mean_val)"
      ]
    },
    {
      "cell_type": "code",
      "execution_count": null,
      "id": "9386dea5",
      "metadata": {
        "id": "9386dea5"
      },
      "outputs": [],
      "source": [
        "column_max_nan_name = train.isna().sum().idxmax()\n",
        "train[train.isna().sum().idxmax()] = train[train.isna().sum().idxmax()].fillna(mean_val)"
      ]
    },
    {
      "cell_type": "code",
      "execution_count": null,
      "id": "989afee9",
      "metadata": {
        "id": "989afee9"
      },
      "outputs": [],
      "source": [
        "test[column_max_nan_name] = test[column_max_nan_name].fillna(test[test.isna().sum().idxmax()].mean())"
      ]
    },
    {
      "cell_type": "markdown",
      "id": "1b120ed4",
      "metadata": {
        "id": "1b120ed4"
      },
      "source": [
        "b) Найдите строки в тренировочных данных, где пропуски стоят в столбце с наименьшим количеством пропусков. Удалите эти строки. Сколько строк вы удалили?"
      ]
    },
    {
      "cell_type": "code",
      "execution_count": null,
      "id": "76278e60",
      "metadata": {
        "id": "76278e60"
      },
      "outputs": [],
      "source": [
        "column_with_min_null = train.isnull().sum()[train.isnull().sum() > 0].idxmin()\n",
        "print(\"Меньше всего пропусков, не считая 0, в столбце:\", column_with_min_null)\n",
        "\n",
        "print(\"Количество строк для удаления: \", train[train[column_with_min_null].isnull()].shape[0])"
      ]
    },
    {
      "cell_type": "code",
      "execution_count": null,
      "id": "facf17d7",
      "metadata": {
        "id": "facf17d7"
      },
      "outputs": [],
      "source": [
        "train = train.dropna(subset=[column_with_min_null])"
      ]
    },
    {
      "cell_type": "markdown",
      "id": "e1be0f58",
      "metadata": {
        "id": "e1be0f58"
      },
      "source": [
        "## Часть 2: Предобработка данных"
      ]
    },
    {
      "cell_type": "markdown",
      "id": "b6413199",
      "metadata": {
        "id": "b6413199"
      },
      "source": [
        "### Задание 3"
      ]
    },
    {
      "cell_type": "markdown",
      "id": "e8ef1e0b",
      "metadata": {
        "id": "e8ef1e0b"
      },
      "source": [
        "a) Сколько столбцов в таблице (не считая target) содержат меньше 5 различных значений?"
      ]
    },
    {
      "cell_type": "code",
      "execution_count": null,
      "id": "a3c9b823",
      "metadata": {
        "colab": {
          "base_uri": "https://localhost:8080/"
        },
        "id": "a3c9b823",
        "outputId": "c1930906-3335-4faf-f5f3-5967717a38e3"
      },
      "outputs": [
        {
          "output_type": "stream",
          "name": "stdout",
          "text": [
            "2 столбцов содержат меньше 5 различ. значений\n"
          ]
        }
      ],
      "source": [
        "unique_counts_per_columns = train.drop(columns=['target']).nunique()\n",
        "print(len(unique_counts_per_columns[unique_counts_per_columns < 5]), \"столбцов содержат меньше 5 различ. значений\")"
      ]
    },
    {
      "cell_type": "markdown",
      "id": "66e32321",
      "metadata": {
        "id": "66e32321"
      },
      "source": [
        "b) Вычислите долю ушедших из компании клиентов, для которых значение признака 2 больше среднего значения по столбцу, а значение признака 13 меньше медианы по столбцу. Ответ округлите до сотых."
      ]
    },
    {
      "cell_type": "code",
      "execution_count": null,
      "id": "16b5c180",
      "metadata": {
        "id": "16b5c180"
      },
      "outputs": [],
      "source": [
        "mean_feature_2 = train['feature_2'].mean()\n",
        "median_feature_13 = train['feature_13'].median()"
      ]
    },
    {
      "cell_type": "code",
      "execution_count": null,
      "id": "b0e468ed",
      "metadata": {
        "colab": {
          "base_uri": "https://localhost:8080/"
        },
        "id": "b0e468ed",
        "outputId": "1488aa67-3414-4d77-f96f-b5525ba21e83"
      },
      "outputs": [
        {
          "output_type": "execute_result",
          "data": {
            "text/plain": [
              "0.09090909090909091"
            ]
          },
          "metadata": {},
          "execution_count": 10
        }
      ],
      "source": [
        "train[(train['feature_2'] > mean_feature_2) & (train['feature_13'] < median_feature_13)]['target'].mean()"
      ]
    },
    {
      "cell_type": "markdown",
      "id": "b548b129",
      "metadata": {
        "id": "b548b129"
      },
      "source": [
        "Доля ушедших для таких клиентов: 0.11"
      ]
    },
    {
      "cell_type": "markdown",
      "id": "24fc3797",
      "metadata": {
        "id": "24fc3797"
      },
      "source": [
        "## Часть 3: Обучение модели"
      ]
    },
    {
      "cell_type": "markdown",
      "id": "bae9b7ed",
      "metadata": {
        "id": "bae9b7ed"
      },
      "source": [
        "Перед этим выполним ohe для категориальных признаков, заполним пустые значения в столбцах и нормализуем числовые признаки."
      ]
    },
    {
      "cell_type": "code",
      "execution_count": null,
      "id": "c450a00b",
      "metadata": {
        "id": "c450a00b"
      },
      "outputs": [],
      "source": [
        "from sklearn.impute import SimpleImputer\n",
        "from sklearn.preprocessing import StandardScaler, OneHotEncoder"
      ]
    },
    {
      "cell_type": "code",
      "execution_count": null,
      "id": "e8fc917a",
      "metadata": {
        "id": "e8fc917a"
      },
      "outputs": [],
      "source": [
        "## для тренировочной\n",
        "\n",
        "def fit_transform(X, cat_nan_replacer=\"\"):\n",
        "    scaler = StandardScaler()\n",
        "    nan_filler = SimpleImputer(strategy=\"median\")\n",
        "    ohe = OneHotEncoder(drop=\"first\", handle_unknown=\"ignore\")\n",
        "\n",
        "    cat_features_mask = (X.dtypes == \"object\").values\n",
        "    # выделяем числовые признаки\n",
        "    X_numeric = X[X.columns[~cat_features_mask]]\n",
        "    # обучаем SimpleImputer\n",
        "    nan_filler.fit(X_numeric)\n",
        "    # заполняем пропуски в числовых признаках на тренировочной выборке медианными значениями\n",
        "    X_num_no_nan = pd.DataFrame(data=nan_filler.transform(X_numeric), columns=X_numeric.columns)\n",
        "    # обучаем StandardScaler\n",
        "    scaler.fit(X_num_no_nan)\n",
        "    # нормализуем числовые данные тренировочной выборки\n",
        "    X_num_scaled = pd.DataFrame(data=scaler.transform(X_num_no_nan), columns=X_num_no_nan.columns)\n",
        "\n",
        "    # заполняем пропуски в категориальных признаках\n",
        "    X_cat = X[X.columns[cat_features_mask]]\n",
        "    # обучаем OneHotEncoder\n",
        "    ohe.fit(X_cat)\n",
        "    # кодируем категориальные признаки\n",
        "    X_cat_ohe = pd.DataFrame(data=ohe.transform(X_cat).toarray(),  columns=ohe.get_feature_names_out())\n",
        "\n",
        "    X_prep = pd.concat([X_num_scaled, X_cat_ohe], axis=1)\n",
        "\n",
        "    return X_prep, scaler, nan_filler, ohe\n",
        "\n",
        "## для тестовой\n",
        "def transform(X, scaler, nan_filler, ohe, cat_nan_replacer=\"\"):\n",
        "    cat_features_mask = (X.dtypes == \"object\").values\n",
        "\n",
        "    X_numeric = X[X.columns[~cat_features_mask]]\n",
        "    # заполняем пропуски в числовых признаках медианными значениями\n",
        "    X_num_no_nan = pd.DataFrame(data=nan_filler.transform(X_numeric), columns=X_numeric.columns)\n",
        "    # нормализуем числовые данные\n",
        "    X_num_scaled = pd.DataFrame(data=scaler.transform(X_num_no_nan), columns=X_num_no_nan.columns)\n",
        "\n",
        "    # заполняем пропуски в категориальных признаках\n",
        "    X_cat = X[X.columns[cat_features_mask]]\n",
        "    # кодируем категориальные признаки\n",
        "    X_cat_ohe = pd.DataFrame(data=ohe.transform(X_cat).toarray(), columns=ohe.get_feature_names_out())\n",
        "\n",
        "    X_prep = pd.concat([X_num_scaled, X_cat_ohe], axis=1)\n",
        "\n",
        "    return X_prep"
      ]
    },
    {
      "cell_type": "code",
      "execution_count": null,
      "id": "06cfdb7a",
      "metadata": {
        "id": "06cfdb7a"
      },
      "outputs": [],
      "source": [
        "X_train = train.drop(\"target\", axis=1)\n",
        "y_train = train[\"target\"]\n",
        "\n",
        "X_test = test.drop(\"target\", axis=1)\n",
        "y_test = test[\"target\"]"
      ]
    },
    {
      "cell_type": "code",
      "execution_count": null,
      "id": "faf52497",
      "metadata": {
        "id": "faf52497"
      },
      "outputs": [],
      "source": [
        "X_train, scaler, nan_filler, ohe = fit_transform(X_train)\n",
        "X_test = transform(X_test, scaler, nan_filler, ohe)"
      ]
    },
    {
      "cell_type": "code",
      "execution_count": null,
      "id": "4b2f7d0f",
      "metadata": {
        "colab": {
          "base_uri": "https://localhost:8080/"
        },
        "id": "4b2f7d0f",
        "outputId": "14056b97-192e-49b1-de6a-3ccf2b4c7663"
      },
      "outputs": [
        {
          "output_type": "execute_result",
          "data": {
            "text/plain": [
              "feature_0                       0\n",
              "feature_1                       0\n",
              "feature_2                       0\n",
              "feature_3                       0\n",
              "feature_4                       0\n",
              "feature_5                       0\n",
              "feature_6                       0\n",
              "feature_7                       0\n",
              "feature_8                       0\n",
              "feature_9                       0\n",
              "feature_10                      0\n",
              "feature_11                      0\n",
              "feature_12                      0\n",
              "feature_13                      0\n",
              "cat_feature_1_B                 0\n",
              "cat_feature_1_C                 0\n",
              "cat_feature_2_legal entities    0\n",
              "dtype: int64"
            ]
          },
          "metadata": {},
          "execution_count": 15
        }
      ],
      "source": [
        "X_train.isna().sum()"
      ]
    },
    {
      "cell_type": "markdown",
      "id": "c80c886c",
      "metadata": {
        "id": "c80c886c"
      },
      "source": [
        "### Задание 4"
      ]
    },
    {
      "cell_type": "markdown",
      "id": "6d0556bb",
      "metadata": {
        "id": "6d0556bb"
      },
      "source": [
        "a) Разбейте тренировочные данные на целевой вектор y, содержащий значения из столбца target, и матрицу объект-признак X, содержащую остальные признаки. Обучите на этих данных логистическую регрессию из sklearn (LogisticRegression) с параметрами по умолчанию. Выведите среднее значение метрики f1-score алгоритма на кросс-валидации с тремя фолдами. Ответ округлите до сотых.\n",
        "При объявлении модели фиксируйте random_state = 42.\n",
        "Комментарий: параметры по умолчанию можете оставить дефолтными"
      ]
    },
    {
      "cell_type": "code",
      "execution_count": null,
      "id": "b9987f66",
      "metadata": {
        "id": "b9987f66"
      },
      "outputs": [],
      "source": [
        "from sklearn.linear_model import LogisticRegression\n",
        "from sklearn.model_selection import cross_val_score\n",
        "from sklearn.metrics import f1_score, make_scorer"
      ]
    },
    {
      "cell_type": "code",
      "execution_count": null,
      "id": "115c5d07",
      "metadata": {
        "colab": {
          "base_uri": "https://localhost:8080/"
        },
        "id": "115c5d07",
        "outputId": "f777b5ab-1a6c-41b6-a9c4-a0dad663a09e"
      },
      "outputs": [
        {
          "output_type": "stream",
          "name": "stdout",
          "text": [
            "0.82\n"
          ]
        }
      ],
      "source": [
        "model = LogisticRegression(random_state=42)\n",
        "f1_scorer = make_scorer(f1_score)\n",
        "f1_scores = cross_val_score(model, X_train, y_train, cv=3, scoring=f1_scorer)\n",
        "\n",
        "mean_f1_score = np.mean(f1_scores)\n",
        "print(round(mean_f1_score, 2))"
      ]
    },
    {
      "cell_type": "markdown",
      "id": "5f2ca1ee",
      "metadata": {
        "id": "5f2ca1ee"
      },
      "source": [
        "Среднеезначение метрики f1-score: **0.82**"
      ]
    },
    {
      "cell_type": "markdown",
      "id": "cb31440d",
      "metadata": {
        "id": "cb31440d"
      },
      "source": [
        "### Задание 5"
      ]
    },
    {
      "cell_type": "markdown",
      "id": "60f6eba2",
      "metadata": {
        "id": "60f6eba2"
      },
      "source": [
        "a) Подберите значение константы регуляризации C в логистической регрессии, перебирая гиперпараметр от 0.001 до 100 включительно, проходя по степеням 10. Для выбора C примените перебор по сетке по тренировочной выборке (GridSearchCV из библиотеки sklearn.model_selection) с тремя фолдами и метрикой качества - f1-score. Остальные параметры оставьте по умолчанию. В ответ запишите наилучшее среди искомых значение C.\n",
        "\n",
        "При объявлении модели фиксируйте random_state = 42.\n",
        "\n",
        "Комментарий: параметры по умолчанию можете оставить дефолтными"
      ]
    },
    {
      "cell_type": "code",
      "execution_count": null,
      "id": "3047a83d",
      "metadata": {
        "id": "3047a83d"
      },
      "outputs": [],
      "source": [
        "from sklearn.model_selection import GridSearchCV\n",
        "from sklearn.pipeline import Pipeline"
      ]
    },
    {
      "cell_type": "code",
      "execution_count": null,
      "id": "177c3357",
      "metadata": {
        "colab": {
          "base_uri": "https://localhost:8080/"
        },
        "id": "177c3357",
        "outputId": "3b120369-de17-474d-8d13-3975aa2a5125"
      },
      "outputs": [
        {
          "output_type": "stream",
          "name": "stdout",
          "text": [
            "Best C: 10\n",
            "f1-score: 0.86\n"
          ]
        }
      ],
      "source": [
        "model = LogisticRegression(random_state=42)\n",
        "\n",
        "pipeline = Pipeline(steps=[\n",
        "    ('classifier', model)\n",
        "])\n",
        "\n",
        "param_grid = {\n",
        "    'classifier__C': [0.001, 0.01, 0.1, 1, 10, 100]\n",
        "}\n",
        "\n",
        "f1_scorer = make_scorer(f1_score)\n",
        "\n",
        "grid_search = GridSearchCV(pipeline, param_grid, cv=3, scoring=f1_scorer)\n",
        "\n",
        "grid_search.fit(X_train, y_train)\n",
        "\n",
        "print(\"Best C:\", grid_search.best_params_['classifier__C'])\n",
        "print('f1-score:', round(grid_search.best_score_, 2))"
      ]
    },
    {
      "cell_type": "markdown",
      "id": "60ddf406",
      "metadata": {
        "id": "60ddf406"
      },
      "source": [
        "Наилучшее C: **10**"
      ]
    },
    {
      "cell_type": "markdown",
      "id": "39157846",
      "metadata": {
        "id": "39157846"
      },
      "source": [
        "b) Добавьте в тренировочные и тестовые данные новый признак 'NEW', равный произведению признаков '7' и '11'. На тренировочных данных с новым признаком заново с помощью GridSearchCV (с тремя фолдами и метрикой качества - f1-score) подберите оптимальное значение C (перебирайте те же значения C, что и в предыдущих заданиях), в ответ напишите наилучшее качество алгоритма (по метрике f1-score), ответ округлите до сотых.\n",
        "\n",
        "При объявлении модели фиксируйте random_state = 42.\n"
      ]
    },
    {
      "cell_type": "code",
      "execution_count": null,
      "id": "8616451f",
      "metadata": {
        "colab": {
          "base_uri": "https://localhost:8080/"
        },
        "id": "8616451f",
        "outputId": "1ab1cc56-47ad-451f-b77c-652a3fa102a1"
      },
      "outputs": [
        {
          "output_type": "stream",
          "name": "stdout",
          "text": [
            "Best C: 10\n",
            "f1-score 0.86\n"
          ]
        }
      ],
      "source": [
        "X_train = train.drop(\"target\", axis=1)\n",
        "y_train = train[\"target\"]\n",
        "\n",
        "X_test = test.drop(\"target\", axis=1)\n",
        "y_test = test[\"target\"]\n",
        "\n",
        "X_train['NEW'] = X_train['feature_7'] * X_train['feature_11']\n",
        "X_test['NEW'] = X_test['feature_7'] * X_test['feature_11']\n",
        "\n",
        "X_train, scaler, nan_filler, ohe = fit_transform(X_train)\n",
        "X_test = transform(X_test, scaler, nan_filler, ohe)\n",
        "\n",
        "model = LogisticRegression(random_state=42)\n",
        "\n",
        "pipeline = Pipeline(steps=[\n",
        "    ('classifier', model)\n",
        "])\n",
        "\n",
        "param_grid = {\n",
        "    'classifier__C': [0.001, 0.01, 0.1, 1, 10, 100]\n",
        "}\n",
        "\n",
        "f1_scorer = make_scorer(f1_score)\n",
        "\n",
        "grid_search = GridSearchCV(pipeline, param_grid, cv=3, scoring=f1_scorer)\n",
        "\n",
        "grid_search.fit(X_train, y_train)\n",
        "\n",
        "print(\"Best C:\", grid_search.best_params_['classifier__C'])\n",
        "print(\"f1-score\", round(grid_search.best_score_, 2))"
      ]
    },
    {
      "cell_type": "markdown",
      "id": "d273023a",
      "metadata": {
        "id": "d273023a"
      },
      "source": [
        "Наилучшее качество алгоритма (по метрике f1-score): **0.86**"
      ]
    },
    {
      "cell_type": "markdown",
      "id": "11ba142f",
      "metadata": {
        "id": "11ba142f"
      },
      "source": [
        "c) Теперь вы можете использовать любую модель машинного обучения для решения задачи. Также можете делать любую другую обработку признаков. Ваша задача - получить наилучшее качество по метрике F1-Score на тестовых данных.\n"
      ]
    },
    {
      "cell_type": "code",
      "execution_count": null,
      "id": "b4bc6ba1",
      "metadata": {
        "id": "b4bc6ba1"
      },
      "outputs": [],
      "source": [
        "train = pd.read_csv(\"TrainData_new.csv\")\n",
        "test = pd.read_csv(\"TestData_new.csv\")"
      ]
    },
    {
      "cell_type": "code",
      "execution_count": null,
      "id": "26fdd654",
      "metadata": {
        "id": "26fdd654"
      },
      "outputs": [],
      "source": [
        "X_train = train.drop(\"target\", axis=1)\n",
        "y_train = train[\"target\"]\n",
        "\n",
        "X_test = test.drop(\"target\", axis=1)\n",
        "y_test = test[\"target\"]"
      ]
    },
    {
      "cell_type": "code",
      "execution_count": null,
      "id": "9f877f87",
      "metadata": {
        "id": "9f877f87"
      },
      "outputs": [],
      "source": [
        "X_train['NEW'] = X_train['feature_7'] * X_train['feature_11']\n",
        "X_test['NEW'] = X_test['feature_7'] * X_test['feature_11']"
      ]
    },
    {
      "cell_type": "code",
      "execution_count": null,
      "id": "d0d17715",
      "metadata": {
        "id": "d0d17715"
      },
      "outputs": [],
      "source": [
        "X_train, scaler, nan_filler, ohe = fit_transform(X_train)\n",
        "X_test = transform(X_test, scaler, nan_filler, ohe)"
      ]
    },
    {
      "cell_type": "code",
      "execution_count": null,
      "id": "cea9f2ff",
      "metadata": {
        "id": "cea9f2ff"
      },
      "outputs": [],
      "source": [
        "from sklearn.ensemble import RandomForestClassifier"
      ]
    },
    {
      "cell_type": "code",
      "execution_count": null,
      "id": "05c5f96b",
      "metadata": {
        "colab": {
          "base_uri": "https://localhost:8080/"
        },
        "id": "05c5f96b",
        "outputId": "16578f6e-26b0-4375-e622-c2321997f032"
      },
      "outputs": [
        {
          "output_type": "stream",
          "name": "stdout",
          "text": [
            "0.9487857704176489\n"
          ]
        }
      ],
      "source": [
        "rf_model = RandomForestClassifier(random_state=42)\n",
        "rf_param_grid = {\n",
        "    'classifier__n_estimators': [100, 200],\n",
        "    'classifier__max_depth': [None, 1]\n",
        "}\n",
        "rf_pipeline = Pipeline(steps=[\n",
        "    ('classifier', rf_model)\n",
        "])\n",
        "rf_grid_search = GridSearchCV(rf_pipeline, rf_param_grid, cv=3, scoring=f1_scorer)\n",
        "rf_grid_search.fit(X_train, y_train)\n",
        "best_rf_score = rf_grid_search.best_score_\n",
        "print(best_rf_score)"
      ]
    },
    {
      "cell_type": "code",
      "execution_count": null,
      "id": "f013affc",
      "metadata": {
        "id": "f013affc"
      },
      "outputs": [],
      "source": [
        "from sklearn.ensemble import GradientBoostingClassifier"
      ]
    },
    {
      "cell_type": "code",
      "execution_count": null,
      "id": "567a79e1",
      "metadata": {
        "colab": {
          "base_uri": "https://localhost:8080/"
        },
        "id": "567a79e1",
        "outputId": "1bb1fc70-b3d0-4626-a349-071367508580"
      },
      "outputs": [
        {
          "output_type": "stream",
          "name": "stdout",
          "text": [
            "0.9491503521354266\n"
          ]
        }
      ],
      "source": [
        "gb_model = GradientBoostingClassifier(random_state=42)\n",
        "gb_param_grid = {\n",
        "    'classifier__n_estimators': [100, 200],\n",
        "    'classifier__learning_rate': [0.001, 0.01]\n",
        "}\n",
        "gb_pipeline = Pipeline(steps=[\n",
        "    ('classifier', gb_model)\n",
        "])\n",
        "gb_grid_search = GridSearchCV(gb_pipeline, gb_param_grid, cv=3, scoring=f1_scorer)\n",
        "gb_grid_search.fit(X_train, y_train)\n",
        "best_gb_score = gb_grid_search.best_score_\n",
        "print(best_gb_score)"
      ]
    },
    {
      "cell_type": "markdown",
      "id": "46946d55",
      "metadata": {
        "id": "46946d55"
      },
      "source": [
        "////"
      ]
    },
    {
      "cell_type": "code",
      "execution_count": null,
      "id": "1f5102f2",
      "metadata": {
        "id": "1f5102f2"
      },
      "outputs": [],
      "source": [
        "best_model = gb_grid_search.best_estimator_"
      ]
    },
    {
      "cell_type": "code",
      "execution_count": null,
      "id": "cf50688a",
      "metadata": {
        "id": "cf50688a"
      },
      "outputs": [],
      "source": [
        "y_pred_test = best_model.predict(X_test)"
      ]
    },
    {
      "cell_type": "code",
      "execution_count": null,
      "id": "4b66337f",
      "metadata": {
        "colab": {
          "base_uri": "https://localhost:8080/"
        },
        "id": "4b66337f",
        "outputId": "6dfb09be-9dcd-474b-c80d-d2b1b249a624"
      },
      "outputs": [
        {
          "output_type": "stream",
          "name": "stdout",
          "text": [
            "0.3490566037735849\n"
          ]
        }
      ],
      "source": [
        "print(f1_score(y_test, y_pred_test))"
      ]
    },
    {
      "cell_type": "code",
      "execution_count": null,
      "id": "f023d2de",
      "metadata": {
        "id": "f023d2de"
      },
      "outputs": [],
      "source": [
        "y_pred_train = best_model.predict(X_train)"
      ]
    },
    {
      "cell_type": "code",
      "source": [
        "print(f1_score(y_train, y_pred_train))"
      ],
      "metadata": {
        "colab": {
          "base_uri": "https://localhost:8080/"
        },
        "id": "3MCMWNyJ2fI1",
        "outputId": "4ec43d38-8a18-45c6-9b3b-506ead0cdf4d"
      },
      "id": "3MCMWNyJ2fI1",
      "execution_count": null,
      "outputs": [
        {
          "output_type": "stream",
          "name": "stdout",
          "text": [
            "1.0\n"
          ]
        }
      ]
    }
  ],
  "metadata": {
    "kernelspec": {
      "display_name": "Python 3 (ipykernel)",
      "language": "python",
      "name": "python3"
    },
    "language_info": {
      "codemirror_mode": {
        "name": "ipython",
        "version": 3
      },
      "file_extension": ".py",
      "mimetype": "text/x-python",
      "name": "python",
      "nbconvert_exporter": "python",
      "pygments_lexer": "ipython3",
      "version": "3.10.0"
    },
    "colab": {
      "provenance": []
    }
  },
  "nbformat": 4,
  "nbformat_minor": 5
}